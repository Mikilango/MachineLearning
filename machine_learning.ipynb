{
 "cells": [
  {
   "cell_type": "code",
   "execution_count": 12,
   "id": "initial_id",
   "metadata": {
    "collapsed": true,
    "ExecuteTime": {
     "end_time": "2024-04-11T12:49:44.710255700Z",
     "start_time": "2024-04-11T12:49:44.705688300Z"
    }
   },
   "outputs": [],
   "source": [
    "import pandas as pd\n",
    "import numpy as np\n",
    "\n",
    "# Чтение данных из CSV-файла\n",
    "data = pd.read_csv(\"your_dataset.csv\")\n",
    "\n",
    "# Вывод первых нескольких строк данных для ознакомления\n",
    "print(data.head())\n",
    "\n",
    "# Описание данных\n",
    "print(data.info())\n",
    "\n",
    "# Статистические данные\n",
    "print(data.describe())\n"
   ]
  }
 ],
 "metadata": {
  "kernelspec": {
   "display_name": "Python 3",
   "language": "python",
   "name": "python3"
  },
  "language_info": {
   "codemirror_mode": {
    "name": "ipython",
    "version": 2
   },
   "file_extension": ".py",
   "mimetype": "text/x-python",
   "name": "python",
   "nbconvert_exporter": "python",
   "pygments_lexer": "ipython2",
   "version": "2.7.6"
  }
 },
 "nbformat": 4,
 "nbformat_minor": 5
}
