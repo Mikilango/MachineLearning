{
 "cells": [
  {
   "cell_type": "markdown",
   "metadata": {},
   "source": [
    "<a name='introduction'></a>\n",
    "# Определение стоимости автомобилей\n",
    "\n",
    "Сервис по продаже автомобилей с пробегом «Не бит, не крашен» разрабатывает приложение для привлечения новых клиентов. В нём можно быстро узнать рыночную стоимость своего автомобиля. В распоряжении исторические данные: технические характеристики, комплектации и цены автомобилей. Нужно построить модель для определения стоимости. \n",
    "\n",
    "Заказчику важны:\n",
    "- качество предсказания;\n",
    "- скорость предсказания;\n",
    "- время обучения.\n",
    "\n",
    "<br>**План работы:**\n",
    "1. [Подготовка данных](#data_preprocessing)\n",
    "    - [Импорт и первичный анализ](#import)\n",
    "    - [Предобработка количественных параметров](#numeric_cols)\n",
    "    - [Удаление дубликатов и переустановка индексов](#duplicates)\n",
    "2. [Обучение моделей](#model_learning)\n",
    "    - [Разбивка на выборки и преобразование столбцов](#samples_split)\n",
    "    - [Модели машинного обучения](#ml_models)\n",
    "        - [LinearRegression](#logreg)\n",
    "        - [DecisionTreeRegressor](#tree)\n",
    "        - [LightGBM](#lgbm)\n",
    "3. [Анализ моделей](#analysis)\n",
    "4. [Общий вывод](#conclusion)"
   ]
  },
  {
   "cell_type": "markdown",
   "metadata": {},
   "source": [
    "<a name='data_preprocessing'></a>\n",
    "## 1. Подготовка данных"
   ]
  },
  {
   "cell_type": "markdown",
   "metadata": {},
   "source": [
    "<a name='import'></a>\n",
    "### 1. 1. Импорт и первичный анализ "
   ]
  },
  {
   "cell_type": "code",
   "execution_count": 1,
   "metadata": {
    "ExecuteTime": {
     "end_time": "2024-04-16T21:11:23.384861200Z",
     "start_time": "2024-04-16T21:11:22.391176300Z"
    }
   },
   "outputs": [],
   "source": [
    "import numpy as np\n",
    "import pandas as pd\n",
    "\n",
    "from lightgbm import LGBMRegressor\n",
    "\n",
    "from sklearn.compose import ColumnTransformer\n",
    "from sklearn.ensemble import RandomForestRegressor\n",
    "from sklearn.linear_model import LinearRegression\n",
    "from sklearn.metrics import mean_squared_error\n",
    "from sklearn.model_selection import GridSearchCV, train_test_split\n",
    "from sklearn.tree import DecisionTreeRegressor\n",
    "from sklearn.pipeline import Pipeline\n",
    "from sklearn.preprocessing import OrdinalEncoder, StandardScaler"
   ]
  },
  {
   "cell_type": "code",
   "execution_count": 2,
   "metadata": {
    "ExecuteTime": {
     "end_time": "2024-04-16T21:11:41.412250800Z",
     "start_time": "2024-04-16T21:11:41.324242900Z"
    }
   },
   "outputs": [],
   "source": [
    "# Импорт данных\n",
    "\n",
    "df_autos = pd.read_csv(\"car_price_prediction.csv\")"
   ]
  },
  {
   "cell_type": "code",
   "execution_count": 4,
   "metadata": {
    "scrolled": true,
    "ExecuteTime": {
     "end_time": "2024-04-16T21:11:57.679054500Z",
     "start_time": "2024-04-16T21:11:57.617281400Z"
    }
   },
   "outputs": [
    {
     "data": {
      "text/plain": "         ID  Price  Levy Manufacturer    Model  Prod. year   Category  \\\n0  45654403  13328  1399        LEXUS   RX 450        2010       Jeep   \n1  44731507  16621  1018    CHEVROLET  Equinox        2011       Jeep   \n2  45774419   8467     -        HONDA      FIT        2006  Hatchback   \n3  45769185   3607   862         FORD   Escape        2011       Jeep   \n4  45809263  11726   446        HONDA      FIT        2014  Hatchback   \n\n  Leather interior Fuel type Engine volume    Mileage  Cylinders  \\\n0              Yes    Hybrid           3.5  186005 km        6.0   \n1               No    Petrol             3  192000 km        6.0   \n2               No    Petrol           1.3  200000 km        4.0   \n3              Yes    Hybrid           2.5  168966 km        4.0   \n4              Yes    Petrol           1.3   91901 km        4.0   \n\n  Gear box type Drive wheels   Doors             Wheel   Color  Airbags  \n0     Automatic          4x4  04-May        Left wheel  Silver       12  \n1     Tiptronic          4x4  04-May        Left wheel   Black        8  \n2      Variator        Front  04-May  Right-hand drive   Black        2  \n3     Automatic          4x4  04-May        Left wheel   White        0  \n4     Automatic        Front  04-May        Left wheel  Silver        4  ",
      "text/html": "<div>\n<style scoped>\n    .dataframe tbody tr th:only-of-type {\n        vertical-align: middle;\n    }\n\n    .dataframe tbody tr th {\n        vertical-align: top;\n    }\n\n    .dataframe thead th {\n        text-align: right;\n    }\n</style>\n<table border=\"1\" class=\"dataframe\">\n  <thead>\n    <tr style=\"text-align: right;\">\n      <th></th>\n      <th>ID</th>\n      <th>Price</th>\n      <th>Levy</th>\n      <th>Manufacturer</th>\n      <th>Model</th>\n      <th>Prod. year</th>\n      <th>Category</th>\n      <th>Leather interior</th>\n      <th>Fuel type</th>\n      <th>Engine volume</th>\n      <th>Mileage</th>\n      <th>Cylinders</th>\n      <th>Gear box type</th>\n      <th>Drive wheels</th>\n      <th>Doors</th>\n      <th>Wheel</th>\n      <th>Color</th>\n      <th>Airbags</th>\n    </tr>\n  </thead>\n  <tbody>\n    <tr>\n      <th>0</th>\n      <td>45654403</td>\n      <td>13328</td>\n      <td>1399</td>\n      <td>LEXUS</td>\n      <td>RX 450</td>\n      <td>2010</td>\n      <td>Jeep</td>\n      <td>Yes</td>\n      <td>Hybrid</td>\n      <td>3.5</td>\n      <td>186005 km</td>\n      <td>6.0</td>\n      <td>Automatic</td>\n      <td>4x4</td>\n      <td>04-May</td>\n      <td>Left wheel</td>\n      <td>Silver</td>\n      <td>12</td>\n    </tr>\n    <tr>\n      <th>1</th>\n      <td>44731507</td>\n      <td>16621</td>\n      <td>1018</td>\n      <td>CHEVROLET</td>\n      <td>Equinox</td>\n      <td>2011</td>\n      <td>Jeep</td>\n      <td>No</td>\n      <td>Petrol</td>\n      <td>3</td>\n      <td>192000 km</td>\n      <td>6.0</td>\n      <td>Tiptronic</td>\n      <td>4x4</td>\n      <td>04-May</td>\n      <td>Left wheel</td>\n      <td>Black</td>\n      <td>8</td>\n    </tr>\n    <tr>\n      <th>2</th>\n      <td>45774419</td>\n      <td>8467</td>\n      <td>-</td>\n      <td>HONDA</td>\n      <td>FIT</td>\n      <td>2006</td>\n      <td>Hatchback</td>\n      <td>No</td>\n      <td>Petrol</td>\n      <td>1.3</td>\n      <td>200000 km</td>\n      <td>4.0</td>\n      <td>Variator</td>\n      <td>Front</td>\n      <td>04-May</td>\n      <td>Right-hand drive</td>\n      <td>Black</td>\n      <td>2</td>\n    </tr>\n    <tr>\n      <th>3</th>\n      <td>45769185</td>\n      <td>3607</td>\n      <td>862</td>\n      <td>FORD</td>\n      <td>Escape</td>\n      <td>2011</td>\n      <td>Jeep</td>\n      <td>Yes</td>\n      <td>Hybrid</td>\n      <td>2.5</td>\n      <td>168966 km</td>\n      <td>4.0</td>\n      <td>Automatic</td>\n      <td>4x4</td>\n      <td>04-May</td>\n      <td>Left wheel</td>\n      <td>White</td>\n      <td>0</td>\n    </tr>\n    <tr>\n      <th>4</th>\n      <td>45809263</td>\n      <td>11726</td>\n      <td>446</td>\n      <td>HONDA</td>\n      <td>FIT</td>\n      <td>2014</td>\n      <td>Hatchback</td>\n      <td>Yes</td>\n      <td>Petrol</td>\n      <td>1.3</td>\n      <td>91901 km</td>\n      <td>4.0</td>\n      <td>Automatic</td>\n      <td>Front</td>\n      <td>04-May</td>\n      <td>Left wheel</td>\n      <td>Silver</td>\n      <td>4</td>\n    </tr>\n  </tbody>\n</table>\n</div>"
     },
     "execution_count": 4,
     "metadata": {},
     "output_type": "execute_result"
    }
   ],
   "source": [
    "df_autos.head()"
   ]
  },
  {
   "cell_type": "code",
   "execution_count": 5,
   "metadata": {
    "ExecuteTime": {
     "end_time": "2024-04-16T21:12:00.757313900Z",
     "start_time": "2024-04-16T21:12:00.730257400Z"
    }
   },
   "outputs": [
    {
     "data": {
      "text/plain": "ID                    int64\nPrice                 int64\nLevy                 object\nManufacturer         object\nModel                object\nProd. year            int64\nCategory             object\nLeather interior     object\nFuel type            object\nEngine volume        object\nMileage              object\nCylinders           float64\nGear box type        object\nDrive wheels         object\nDoors                object\nWheel                object\nColor                object\nAirbags               int64\ndtype: object"
     },
     "execution_count": 5,
     "metadata": {},
     "output_type": "execute_result"
    }
   ],
   "source": [
    "# Проверим тип данных параметров\n",
    "\n",
    "df_autos.dtypes"
   ]
  },
  {
   "cell_type": "code",
   "execution_count": 6,
   "metadata": {
    "ExecuteTime": {
     "end_time": "2024-04-16T21:12:04.429597100Z",
     "start_time": "2024-04-16T21:12:04.410590800Z"
    }
   },
   "outputs": [
    {
     "data": {
      "text/plain": "ID                  0\nPrice               0\nLevy                0\nManufacturer        0\nModel               0\nProd. year          0\nCategory            0\nLeather interior    0\nFuel type           0\nEngine volume       0\nMileage             0\nCylinders           0\nGear box type       0\nDrive wheels        0\nDoors               0\nWheel               0\nColor               0\nAirbags             0\ndtype: int64"
     },
     "execution_count": 6,
     "metadata": {},
     "output_type": "execute_result"
    }
   ],
   "source": [
    "# Отсутствующие данные по параметрам\n",
    "\n",
    "df_autos.isna().sum()"
   ]
  },
  {
   "cell_type": "code",
   "execution_count": 7,
   "metadata": {
    "ExecuteTime": {
     "end_time": "2024-04-16T21:12:15.596912Z",
     "start_time": "2024-04-16T21:12:13.546439Z"
    }
   },
   "outputs": [
    {
     "ename": "KeyError",
     "evalue": "'VehicleType'",
     "output_type": "error",
     "traceback": [
      "\u001B[1;31m---------------------------------------------------------------------------\u001B[0m",
      "\u001B[1;31mKeyError\u001B[0m                                  Traceback (most recent call last)",
      "File \u001B[1;32m~\\AppData\\Local\\Programs\\Python\\Python39\\lib\\site-packages\\pandas\\core\\indexes\\base.py:3791\u001B[0m, in \u001B[0;36mIndex.get_loc\u001B[1;34m(self, key)\u001B[0m\n\u001B[0;32m   3790\u001B[0m \u001B[38;5;28;01mtry\u001B[39;00m:\n\u001B[1;32m-> 3791\u001B[0m     \u001B[38;5;28;01mreturn\u001B[39;00m \u001B[38;5;28;43mself\u001B[39;49m\u001B[38;5;241;43m.\u001B[39;49m\u001B[43m_engine\u001B[49m\u001B[38;5;241;43m.\u001B[39;49m\u001B[43mget_loc\u001B[49m\u001B[43m(\u001B[49m\u001B[43mcasted_key\u001B[49m\u001B[43m)\u001B[49m\n\u001B[0;32m   3792\u001B[0m \u001B[38;5;28;01mexcept\u001B[39;00m \u001B[38;5;167;01mKeyError\u001B[39;00m \u001B[38;5;28;01mas\u001B[39;00m err:\n",
      "File \u001B[1;32mindex.pyx:152\u001B[0m, in \u001B[0;36mpandas._libs.index.IndexEngine.get_loc\u001B[1;34m()\u001B[0m\n",
      "File \u001B[1;32mindex.pyx:181\u001B[0m, in \u001B[0;36mpandas._libs.index.IndexEngine.get_loc\u001B[1;34m()\u001B[0m\n",
      "File \u001B[1;32mpandas\\_libs\\hashtable_class_helper.pxi:7080\u001B[0m, in \u001B[0;36mpandas._libs.hashtable.PyObjectHashTable.get_item\u001B[1;34m()\u001B[0m\n",
      "File \u001B[1;32mpandas\\_libs\\hashtable_class_helper.pxi:7088\u001B[0m, in \u001B[0;36mpandas._libs.hashtable.PyObjectHashTable.get_item\u001B[1;34m()\u001B[0m\n",
      "\u001B[1;31mKeyError\u001B[0m: 'VehicleType'",
      "\nThe above exception was the direct cause of the following exception:\n",
      "\u001B[1;31mKeyError\u001B[0m                                  Traceback (most recent call last)",
      "Cell \u001B[1;32mIn[7], line 6\u001B[0m\n\u001B[0;32m      3\u001B[0m cols \u001B[38;5;241m=\u001B[39m [\u001B[38;5;124m'\u001B[39m\u001B[38;5;124mVehicleType\u001B[39m\u001B[38;5;124m'\u001B[39m, \u001B[38;5;124m'\u001B[39m\u001B[38;5;124mGearbox\u001B[39m\u001B[38;5;124m'\u001B[39m, \u001B[38;5;124m'\u001B[39m\u001B[38;5;124mModel\u001B[39m\u001B[38;5;124m'\u001B[39m, \u001B[38;5;124m'\u001B[39m\u001B[38;5;124mFuelType\u001B[39m\u001B[38;5;124m'\u001B[39m, \u001B[38;5;124m'\u001B[39m\u001B[38;5;124mRepaired\u001B[39m\u001B[38;5;124m'\u001B[39m]\n\u001B[0;32m      5\u001B[0m \u001B[38;5;28;01mfor\u001B[39;00m col \u001B[38;5;129;01min\u001B[39;00m cols:\n\u001B[1;32m----> 6\u001B[0m     \u001B[38;5;28mprint\u001B[39m(\u001B[38;5;124mf\u001B[39m\u001B[38;5;124m\"\u001B[39m\u001B[38;5;124mUnique values by \u001B[39m\u001B[38;5;124m'\u001B[39m\u001B[38;5;132;01m{\u001B[39;00mcol\u001B[38;5;132;01m}\u001B[39;00m\u001B[38;5;124m'\u001B[39m\u001B[38;5;124m:\u001B[39m\u001B[38;5;124m\"\u001B[39m, \u001B[43mdf_autos\u001B[49m\u001B[43m[\u001B[49m\u001B[43mcol\u001B[49m\u001B[43m]\u001B[49m\u001B[38;5;241m.\u001B[39munique(), \u001B[38;5;124m'\u001B[39m\u001B[38;5;130;01m\\n\u001B[39;00m\u001B[38;5;124m'\u001B[39m)\n",
      "File \u001B[1;32m~\\AppData\\Local\\Programs\\Python\\Python39\\lib\\site-packages\\pandas\\core\\frame.py:3893\u001B[0m, in \u001B[0;36mDataFrame.__getitem__\u001B[1;34m(self, key)\u001B[0m\n\u001B[0;32m   3891\u001B[0m \u001B[38;5;28;01mif\u001B[39;00m \u001B[38;5;28mself\u001B[39m\u001B[38;5;241m.\u001B[39mcolumns\u001B[38;5;241m.\u001B[39mnlevels \u001B[38;5;241m>\u001B[39m \u001B[38;5;241m1\u001B[39m:\n\u001B[0;32m   3892\u001B[0m     \u001B[38;5;28;01mreturn\u001B[39;00m \u001B[38;5;28mself\u001B[39m\u001B[38;5;241m.\u001B[39m_getitem_multilevel(key)\n\u001B[1;32m-> 3893\u001B[0m indexer \u001B[38;5;241m=\u001B[39m \u001B[38;5;28;43mself\u001B[39;49m\u001B[38;5;241;43m.\u001B[39;49m\u001B[43mcolumns\u001B[49m\u001B[38;5;241;43m.\u001B[39;49m\u001B[43mget_loc\u001B[49m\u001B[43m(\u001B[49m\u001B[43mkey\u001B[49m\u001B[43m)\u001B[49m\n\u001B[0;32m   3894\u001B[0m \u001B[38;5;28;01mif\u001B[39;00m is_integer(indexer):\n\u001B[0;32m   3895\u001B[0m     indexer \u001B[38;5;241m=\u001B[39m [indexer]\n",
      "File \u001B[1;32m~\\AppData\\Local\\Programs\\Python\\Python39\\lib\\site-packages\\pandas\\core\\indexes\\base.py:3798\u001B[0m, in \u001B[0;36mIndex.get_loc\u001B[1;34m(self, key)\u001B[0m\n\u001B[0;32m   3793\u001B[0m     \u001B[38;5;28;01mif\u001B[39;00m \u001B[38;5;28misinstance\u001B[39m(casted_key, \u001B[38;5;28mslice\u001B[39m) \u001B[38;5;129;01mor\u001B[39;00m (\n\u001B[0;32m   3794\u001B[0m         \u001B[38;5;28misinstance\u001B[39m(casted_key, abc\u001B[38;5;241m.\u001B[39mIterable)\n\u001B[0;32m   3795\u001B[0m         \u001B[38;5;129;01mand\u001B[39;00m \u001B[38;5;28many\u001B[39m(\u001B[38;5;28misinstance\u001B[39m(x, \u001B[38;5;28mslice\u001B[39m) \u001B[38;5;28;01mfor\u001B[39;00m x \u001B[38;5;129;01min\u001B[39;00m casted_key)\n\u001B[0;32m   3796\u001B[0m     ):\n\u001B[0;32m   3797\u001B[0m         \u001B[38;5;28;01mraise\u001B[39;00m InvalidIndexError(key)\n\u001B[1;32m-> 3798\u001B[0m     \u001B[38;5;28;01mraise\u001B[39;00m \u001B[38;5;167;01mKeyError\u001B[39;00m(key) \u001B[38;5;28;01mfrom\u001B[39;00m \u001B[38;5;21;01merr\u001B[39;00m\n\u001B[0;32m   3799\u001B[0m \u001B[38;5;28;01mexcept\u001B[39;00m \u001B[38;5;167;01mTypeError\u001B[39;00m:\n\u001B[0;32m   3800\u001B[0m     \u001B[38;5;66;03m# If we have a listlike key, _check_indexing_error will raise\u001B[39;00m\n\u001B[0;32m   3801\u001B[0m     \u001B[38;5;66;03m#  InvalidIndexError. Otherwise we fall through and re-raise\u001B[39;00m\n\u001B[0;32m   3802\u001B[0m     \u001B[38;5;66;03m#  the TypeError.\u001B[39;00m\n\u001B[0;32m   3803\u001B[0m     \u001B[38;5;28mself\u001B[39m\u001B[38;5;241m.\u001B[39m_check_indexing_error(key)\n",
      "\u001B[1;31mKeyError\u001B[0m: 'VehicleType'"
     ]
    }
   ],
   "source": [
    "# Рассмотрим значения по столбцам с отсутствующими значениями\n",
    "\n",
    "cols = ['VehicleType', 'Gearbox', 'Model', 'FuelType', 'Repaired']\n",
    "\n",
    "for col in cols:\n",
    "    print(f\"Unique values by '{col}':\", df_autos[col].unique(), '\\n')"
   ]
  },
  {
   "cell_type": "code",
   "execution_count": 7,
   "metadata": {},
   "outputs": [],
   "source": [
    "# Сразу заменим значение в параметре 'Model' с 'rangerover' на 'range_rover'\n",
    "\n",
    "df_autos.loc[df_autos['Model'] == 'rangerover', 'Model'] = 'range_rover'"
   ]
  },
  {
   "cell_type": "markdown",
   "metadata": {},
   "source": [
    "Значения отсутствуют в категориальных переменных. Поскольку заполнение их самым частым встречающимся значением может исказить результаты работы конечной модели, то лучше было бы заполнить отсутствующие значения чем-то опреденным, что, в то же самое время, говорило о том, что значение неизвестно. В связи с этим можно взять за такое значение \"unknown\"."
   ]
  },
  {
   "cell_type": "code",
   "execution_count": 8,
   "metadata": {
    "scrolled": true
   },
   "outputs": [
    {
     "data": {
      "text/plain": [
       "DateCrawled          0\n",
       "Price                0\n",
       "VehicleType          0\n",
       "RegistrationYear     0\n",
       "Gearbox              0\n",
       "Power                0\n",
       "Model                0\n",
       "Kilometer            0\n",
       "RegistrationMonth    0\n",
       "FuelType             0\n",
       "Brand                0\n",
       "Repaired             0\n",
       "DateCreated          0\n",
       "NumberOfPictures     0\n",
       "PostalCode           0\n",
       "LastSeen             0\n",
       "dtype: int64"
      ]
     },
     "execution_count": 8,
     "metadata": {},
     "output_type": "execute_result"
    }
   ],
   "source": [
    "df_autos = df_autos.fillna('unknown')\n",
    "df_autos.isna().sum()"
   ]
  },
  {
   "cell_type": "code",
   "execution_count": 9,
   "metadata": {},
   "outputs": [],
   "source": [
    "# Удалим лишние параметры (например, которые сильно коррелируют с другими или которые не несут важной информации)\n",
    "\n",
    "df_autos = df_autos.drop(['DateCrawled', 'DateCreated', 'LastSeen', 'NumberOfPictures', 'PostalCode'], axis=1)"
   ]
  },
  {
   "cell_type": "markdown",
   "metadata": {},
   "source": [
    "Далее рассмотрим каждый из количественных параметров на наличие анамолий"
   ]
  },
  {
   "cell_type": "markdown",
   "metadata": {},
   "source": [
    "<a name='numeric_cols'></a>\n",
    "### 1. 2. Предобработка количественных параметров"
   ]
  },
  {
   "cell_type": "markdown",
   "metadata": {},
   "source": [
    "#### \"Price\""
   ]
  },
  {
   "cell_type": "code",
   "execution_count": 10,
   "metadata": {
    "scrolled": true
   },
   "outputs": [
    {
     "data": {
      "text/plain": [
       "205926        0\n",
       "204097        0\n",
       "204099        0\n",
       "204104        0\n",
       "62604         0\n",
       "          ...  \n",
       "214341    20000\n",
       "66054     20000\n",
       "197617    20000\n",
       "143161    20000\n",
       "113554    20000\n",
       "Name: Price, Length: 354369, dtype: int64"
      ]
     },
     "execution_count": 10,
     "metadata": {},
     "output_type": "execute_result"
    }
   ],
   "source": [
    "df_autos['Price'].sort_values()"
   ]
  },
  {
   "cell_type": "markdown",
   "metadata": {},
   "source": [
    "Очевидно, что автомобили не будут продаваться бесплатно. Ввиду этого, ограничим минимальное значение цены, путем расчета 5%-ого квантиля параметра и использования его в качестве нижнего предела"
   ]
  },
  {
   "cell_type": "code",
   "execution_count": 11,
   "metadata": {},
   "outputs": [],
   "source": [
    "price_quantile_05 = np.quantile(df_autos['Price'], q=0.05)\n",
    "df_autos = df_autos[df_autos['Price'] > price_quantile_05]"
   ]
  },
  {
   "cell_type": "markdown",
   "metadata": {},
   "source": [
    "#### \"RegistrationYear\""
   ]
  },
  {
   "cell_type": "code",
   "execution_count": 12,
   "metadata": {},
   "outputs": [
    {
     "data": {
      "text/plain": [
       "112768    1000\n",
       "66198     1000\n",
       "244092    1000\n",
       "91869     1000\n",
       "143621    1000\n",
       "          ... \n",
       "29426     9999\n",
       "28965     9999\n",
       "227462    9999\n",
       "17271     9999\n",
       "128677    9999\n",
       "Name: RegistrationYear, Length: 334921, dtype: int64"
      ]
     },
     "execution_count": 12,
     "metadata": {},
     "output_type": "execute_result"
    }
   ],
   "source": [
    "df_autos['RegistrationYear'].sort_values()"
   ]
  },
  {
   "cell_type": "code",
   "execution_count": 13,
   "metadata": {},
   "outputs": [
    {
     "name": "stdout",
     "output_type": "stream",
     "text": [
      "0.005 quantile: 1972.0\n",
      "0.99 quantile: 2018.0\n"
     ]
    }
   ],
   "source": [
    "year_quantile_005 = np.quantile(df_autos['RegistrationYear'], q=0.005)\n",
    "year_quantile_99 = np.quantile(df_autos['RegistrationYear'], q=0.99)\n",
    "print(\"0.005 quantile:\", year_quantile_005)\n",
    "print(\"0.99 quantile:\", year_quantile_99)"
   ]
  },
  {
   "cell_type": "markdown",
   "metadata": {},
   "source": [
    "Очевидно, что год регистрации автомбиля не может быть как 1000, так и 9999, поэтому также ограничим данный параметр, но уже и нижним, и верхним пределом, однако в данном случае будем использовать уже 0.5%-ый квантиль, поскольку он составляет 1980 год, что вполне может соответствовать действительности. Верхним пределом сделаем значение \"2023\"."
   ]
  },
  {
   "cell_type": "code",
   "execution_count": 14,
   "metadata": {
    "scrolled": true
   },
   "outputs": [],
   "source": [
    "df_autos = df_autos[(df_autos['RegistrationYear'] >= year_quantile_005) & (df_autos['RegistrationYear'] <= 2023)]"
   ]
  },
  {
   "cell_type": "markdown",
   "metadata": {},
   "source": [
    "#### \"Power\""
   ]
  },
  {
   "cell_type": "code",
   "execution_count": 15,
   "metadata": {},
   "outputs": [
    {
     "data": {
      "text/plain": [
       "0             0\n",
       "260495        0\n",
       "67720         0\n",
       "260486        0\n",
       "260471        0\n",
       "          ...  \n",
       "63986     17932\n",
       "132485    19208\n",
       "114106    19211\n",
       "299180    19312\n",
       "219584    20000\n",
       "Name: Power, Length: 333361, dtype: int64"
      ]
     },
     "execution_count": 15,
     "metadata": {},
     "output_type": "execute_result"
    }
   ],
   "source": [
    "df_autos['Power'].sort_values()"
   ]
  },
  {
   "cell_type": "markdown",
   "metadata": {},
   "source": [
    "Ввиду того, что минимальные и максимальные значения явно аномальные, необходимо также ограничить допустимые значения мощности автомобилей нижним и верхним пределами"
   ]
  },
  {
   "cell_type": "code",
   "execution_count": 16,
   "metadata": {},
   "outputs": [
    {
     "name": "stdout",
     "output_type": "stream",
     "text": [
      "0.09 quantile: 0.0\n",
      "0.10 quantile: 34.0\n",
      "0.99 quantile: 300.0\n"
     ]
    }
   ],
   "source": [
    "power_quantile_09 = np.quantile(df_autos['Power'], q=0.09)\n",
    "power_quantile_10 = np.quantile(df_autos['Power'], q=0.1)\n",
    "power_quantile_99 = np.quantile(df_autos['Power'], q=0.99)\n",
    "print(\"0.09 quantile:\", power_quantile_09)\n",
    "print(\"0.10 quantile:\", power_quantile_10)\n",
    "print(\"0.99 quantile:\", power_quantile_99)"
   ]
  },
  {
   "cell_type": "markdown",
   "metadata": {},
   "source": [
    "Поскольку даже 9%-квантиль демонстрирует нулевое значение, то принято решение в качестве нижнего предела взять 12%-ный квантиль, а в качестве верхнего - 99%-ный квантиль."
   ]
  },
  {
   "cell_type": "markdown",
   "metadata": {},
   "source": [
    "Заполним пропускими медианными значениями мощности, сгруппировав их по брендам автомобилей. Оставим все, что находится в рамках от 10%-ного квантиля (первоначально взятого) и до 99%-ного квантиля."
   ]
  },
  {
   "cell_type": "code",
   "execution_count": 17,
   "metadata": {},
   "outputs": [],
   "source": [
    "median_brands_power = df_autos.groupby('Brand')[['Power']].median()\n",
    "\n",
    "# Замена нулевой мощности медианной по бренду\n",
    "for i, row in df_autos[df_autos['Power'] < power_quantile_10].iterrows():\n",
    "    df_autos.loc[i, 'Power'] = median_brands_power.loc[row['Brand'], 'Power']\n",
    "    \n",
    "df_autos = df_autos[(df_autos['Power'] >= power_quantile_10) & (df_autos['Power'] <= power_quantile_99)]"
   ]
  },
  {
   "cell_type": "markdown",
   "metadata": {},
   "source": [
    "#### \"Kilometer\""
   ]
  },
  {
   "cell_type": "code",
   "execution_count": 18,
   "metadata": {},
   "outputs": [
    {
     "data": {
      "text/plain": [
       "97209       5000\n",
       "304846      5000\n",
       "147023      5000\n",
       "255825      5000\n",
       "336506      5000\n",
       "           ...  \n",
       "141522    150000\n",
       "141523    150000\n",
       "141524    150000\n",
       "141472    150000\n",
       "354368    150000\n",
       "Name: Kilometer, Length: 329698, dtype: int64"
      ]
     },
     "execution_count": 18,
     "metadata": {},
     "output_type": "execute_result"
    }
   ],
   "source": [
    "df_autos['Kilometer'].sort_values()"
   ]
  },
  {
   "cell_type": "markdown",
   "metadata": {},
   "source": [
    "#### \"RegistrationMonth\""
   ]
  },
  {
   "cell_type": "code",
   "execution_count": 19,
   "metadata": {},
   "outputs": [
    {
     "name": "stdout",
     "output_type": "stream",
     "text": [
      "Уникальные значения 'RegistrationMonth':\n",
      " [0, 1, 2, 3, 4, 5, 6, 7, 8, 9, 10, 11, 12]\n"
     ]
    }
   ],
   "source": [
    "print(\"Уникальные значения 'RegistrationMonth':\\n\", sorted(df_autos['RegistrationMonth'].unique()))"
   ]
  },
  {
   "cell_type": "markdown",
   "metadata": {},
   "source": [
    "Значения данного параметра лежат в диапазоне от 0 до 12 (всего 13 чисел), однако количество месяцев 12. Ввиду того, что количество объектов и по 0 и по 12 месяца совпадает, то для избежания искажения информации оставим все как есть."
   ]
  },
  {
   "cell_type": "markdown",
   "metadata": {},
   "source": [
    "<a name='duplicates'></a>\n",
    "### 1.  3. Удаление дубликатов и переустановка индексов"
   ]
  },
  {
   "cell_type": "code",
   "execution_count": 20,
   "metadata": {},
   "outputs": [],
   "source": [
    "# Оставим датасет без дубликатов\n",
    "\n",
    "df_autos = df_autos[~df_autos.duplicated()]"
   ]
  },
  {
   "cell_type": "code",
   "execution_count": 21,
   "metadata": {},
   "outputs": [],
   "source": [
    "# Переустановим индексы объектов\n",
    "\n",
    "df_autos = df_autos.reset_index(drop=True)"
   ]
  },
  {
   "cell_type": "code",
   "execution_count": 22,
   "metadata": {},
   "outputs": [
    {
     "name": "stdout",
     "output_type": "stream",
     "text": [
      "<class 'pandas.core.frame.DataFrame'>\n",
      "RangeIndex: 304170 entries, 0 to 304169\n",
      "Data columns (total 11 columns):\n",
      " #   Column             Non-Null Count   Dtype \n",
      "---  ------             --------------   ----- \n",
      " 0   Price              304170 non-null  int64 \n",
      " 1   VehicleType        304170 non-null  object\n",
      " 2   RegistrationYear   304170 non-null  int64 \n",
      " 3   Gearbox            304170 non-null  object\n",
      " 4   Power              304170 non-null  int64 \n",
      " 5   Model              304170 non-null  object\n",
      " 6   Kilometer          304170 non-null  int64 \n",
      " 7   RegistrationMonth  304170 non-null  int64 \n",
      " 8   FuelType           304170 non-null  object\n",
      " 9   Brand              304170 non-null  object\n",
      " 10  Repaired           304170 non-null  object\n",
      "dtypes: int64(5), object(6)\n",
      "memory usage: 25.5+ MB\n"
     ]
    }
   ],
   "source": [
    "# Окончательный датасет после отчистки и замены отсутствующих значений\n",
    "\n",
    "df_autos.info()"
   ]
  },
  {
   "cell_type": "markdown",
   "metadata": {},
   "source": [
    "<a name='model_learning'></a>\n",
    "## 2. Обучение моделей\n",
    "[Вернуться во Введение](#introduction)"
   ]
  },
  {
   "cell_type": "markdown",
   "metadata": {},
   "source": [
    "<a name='samples_split'></a>\n",
    "### 2. 1. Разбивка на выборки и преобразование столбцов"
   ]
  },
  {
   "cell_type": "code",
   "execution_count": 23,
   "metadata": {},
   "outputs": [],
   "source": [
    "X = df_autos.drop('Price', axis=1)\n",
    "y = df_autos['Price']\n",
    "\n",
    "X_train, X_valid, y_train, y_valid = train_test_split(X, y, random_state=42, test_size=0.25)\n",
    "X_valid, X_test, y_valid, y_test = train_test_split(X_valid, y_valid, random_state=42, test_size=0.5)"
   ]
  },
  {
   "cell_type": "code",
   "execution_count": 24,
   "metadata": {},
   "outputs": [],
   "source": [
    "categorical_cols = ['VehicleType', 'Gearbox', 'Model', 'FuelType', 'Brand', 'Repaired']\n",
    "numeric_cols = ['RegistrationYear', 'Power', 'Kilometer', 'RegistrationMonth']\n",
    "\n",
    "numeric_transformer = StandardScaler()\n",
    "categorical_transformer = OrdinalEncoder(handle_unknown='use_encoded_value', unknown_value=-1)\n",
    "\n",
    "preprocessor = ColumnTransformer(transformers=[\n",
    "    ('numeric_transformer', numeric_transformer, numeric_cols),\n",
    "    ('categorical_transformer', categorical_transformer, categorical_cols)\n",
    "])"
   ]
  },
  {
   "cell_type": "markdown",
   "metadata": {},
   "source": [
    "<a name='ml_models'></a>\n",
    "### 2. 2. Модели машинного обучения"
   ]
  },
  {
   "cell_type": "markdown",
   "metadata": {},
   "source": [
    "<a name='logreg'></a>\n",
    "#### 2. 2. 1. LinearRegression"
   ]
  },
  {
   "cell_type": "markdown",
   "metadata": {},
   "source": [
    "Обучение и прогнозирование модели LinearRegression"
   ]
  },
  {
   "cell_type": "code",
   "execution_count": 25,
   "metadata": {
    "scrolled": false
   },
   "outputs": [
    {
     "name": "stdout",
     "output_type": "stream",
     "text": [
      "CPU times: user 370 ms, sys: 40.1 ms, total: 410 ms\n",
      "Wall time: 377 ms\n"
     ]
    },
    {
     "data": {
      "text/plain": [
       "Pipeline(steps=[('preprocessor',\n",
       "                 ColumnTransformer(transformers=[('numeric_transformer',\n",
       "                                                  StandardScaler(),\n",
       "                                                  ['RegistrationYear', 'Power',\n",
       "                                                   'Kilometer',\n",
       "                                                   'RegistrationMonth']),\n",
       "                                                 ('categorical_transformer',\n",
       "                                                  OrdinalEncoder(handle_unknown='use_encoded_value',\n",
       "                                                                 unknown_value=-1),\n",
       "                                                  ['VehicleType', 'Gearbox',\n",
       "                                                   'Model', 'FuelType', 'Brand',\n",
       "                                                   'Repaired'])])),\n",
       "                ('regressor', LinearRegression())])"
      ]
     },
     "execution_count": 25,
     "metadata": {},
     "output_type": "execute_result"
    }
   ],
   "source": [
    "%%time\n",
    "\n",
    "# Обучение модели LinearRegression\n",
    "linear = LinearRegression()\n",
    "linear_pipe = Pipeline(steps=[('preprocessor', preprocessor), ('regressor', linear)])\n",
    "linear_pipe.fit(X_train, y_train)"
   ]
  },
  {
   "cell_type": "code",
   "execution_count": 26,
   "metadata": {},
   "outputs": [
    {
     "name": "stdout",
     "output_type": "stream",
     "text": [
      "LinearRegression RMSE: 2889.069\n",
      "CPU times: user 41.3 ms, sys: 63.2 ms, total: 104 ms\n",
      "Wall time: 125 ms\n"
     ]
    }
   ],
   "source": [
    "%%time\n",
    "\n",
    "# Предсказания модели LinearRegression\n",
    "y_pred_linear = linear_pipe.predict(X_valid)\n",
    "\n",
    "rmse_linear = mean_squared_error(y_valid, y_pred_linear) ** 0.5\n",
    "print(\"LinearRegression RMSE: {:.3f}\".format(rmse_linear))"
   ]
  },
  {
   "cell_type": "markdown",
   "metadata": {},
   "source": [
    "<a name='tree'></a>\n",
    "#### 2. 2. 2. DecisionTreeRegressor"
   ]
  },
  {
   "cell_type": "code",
   "execution_count": 27,
   "metadata": {},
   "outputs": [
    {
     "data": {
      "text/plain": [
       "\"\\ntree = DecisionTreeRegressor(random_state=42)\\nparams_tree = {\\n    'max_depth': range(2, 21, 2),\\n    'min_samples_split': range(2, 21, 2)\\n}\\n\\ngrid = GridSearchCV(tree, params_tree)\\ngrid.fit(X_train, y_train)\\nprint(grid.best_estimator_)\\n\""
      ]
     },
     "execution_count": 27,
     "metadata": {},
     "output_type": "execute_result"
    }
   ],
   "source": [
    "'''\n",
    "tree = DecisionTreeRegressor(random_state=42)\n",
    "params_tree = {\n",
    "    'max_depth': range(2, 21, 2),\n",
    "    'min_samples_split': range(2, 21, 2)\n",
    "}\n",
    "\n",
    "grid = GridSearchCV(tree, params_tree)\n",
    "grid.fit(X_train, y_train)\n",
    "print(grid.best_estimator_)\n",
    "'''"
   ]
  },
  {
   "cell_type": "markdown",
   "metadata": {},
   "source": [
    "DecisionTreeRegressor(max_depth=16, min_samples_split=20, random_state=42)"
   ]
  },
  {
   "cell_type": "code",
   "execution_count": 28,
   "metadata": {},
   "outputs": [
    {
     "name": "stdout",
     "output_type": "stream",
     "text": [
      "CPU times: user 1.02 s, sys: 28 ms, total: 1.05 s\n",
      "Wall time: 1.05 s\n"
     ]
    },
    {
     "data": {
      "text/plain": [
       "Pipeline(steps=[('preprocessor',\n",
       "                 ColumnTransformer(transformers=[('numeric_transformer',\n",
       "                                                  StandardScaler(),\n",
       "                                                  ['RegistrationYear', 'Power',\n",
       "                                                   'Kilometer',\n",
       "                                                   'RegistrationMonth']),\n",
       "                                                 ('categorical_transformer',\n",
       "                                                  OrdinalEncoder(handle_unknown='use_encoded_value',\n",
       "                                                                 unknown_value=-1),\n",
       "                                                  ['VehicleType', 'Gearbox',\n",
       "                                                   'Model', 'FuelType', 'Brand',\n",
       "                                                   'Repaired'])])),\n",
       "                ('regressor',\n",
       "                 DecisionTreeRegressor(max_depth=16, min_samples_split=20,\n",
       "                                       random_state=42))])"
      ]
     },
     "execution_count": 28,
     "metadata": {},
     "output_type": "execute_result"
    }
   ],
   "source": [
    "%%time\n",
    "\n",
    "# Обучение модели DecisionTreeRegressor\n",
    "tree = DecisionTreeRegressor(random_state=42, max_depth=16, min_samples_split=20)\n",
    "tree_pipe = Pipeline(steps=[('preprocessor', preprocessor), ('regressor', tree)])\n",
    "tree_pipe.fit(X_train, y_train)"
   ]
  },
  {
   "cell_type": "code",
   "execution_count": 29,
   "metadata": {},
   "outputs": [
    {
     "name": "stdout",
     "output_type": "stream",
     "text": [
      "DecisionTreeClassifier RMSE: 1841.436\n",
      "CPU times: user 59.3 ms, sys: 0 ns, total: 59.3 ms\n",
      "Wall time: 63.8 ms\n"
     ]
    }
   ],
   "source": [
    "%%time\n",
    "\n",
    "# Предсказания модели DecisionTreeRegressor\n",
    "y_pred_tree = tree_pipe.predict(X_valid)\n",
    "rmse_tree = mean_squared_error(y_valid, y_pred_tree) ** 0.5\n",
    "print(\"DecisionTreeClassifier RMSE: {:.3f}\".format(rmse_tree))"
   ]
  },
  {
   "cell_type": "markdown",
   "metadata": {},
   "source": [
    "<a name='lgbm'></a>\n",
    "#### 2. 2. 3. LightGBM"
   ]
  },
  {
   "cell_type": "code",
   "execution_count": 30,
   "metadata": {},
   "outputs": [
    {
     "data": {
      "text/plain": [
       "\"\\nlgb = LGBMRegressor(random_state=42)\\nparams_lgb = {\\n    'num_leaves': range(31, 38, 2),\\n    'n_estimators': range(100, 201, 50),\\n}\\n\\ngrid = GridSearchCV(lgb, params_lgb)\\ngrid.fit(X_train, y_train)\\nprint(grid.best_estimator_)\\n\""
      ]
     },
     "execution_count": 30,
     "metadata": {},
     "output_type": "execute_result"
    }
   ],
   "source": [
    "'''\n",
    "lgb = LGBMRegressor(random_state=42)\n",
    "params_lgb = {\n",
    "    'num_leaves': range(31, 38, 2),\n",
    "    'n_estimators': range(100, 201, 50),\n",
    "}\n",
    "\n",
    "grid = GridSearchCV(lgb, params_lgb)\n",
    "grid.fit(X_train, y_train)\n",
    "print(grid.best_estimator_)\n",
    "'''"
   ]
  },
  {
   "cell_type": "markdown",
   "metadata": {},
   "source": [
    "LGBMRegressor(n_estimators=150, num_leaves=35, random_state=42)"
   ]
  },
  {
   "cell_type": "code",
   "execution_count": 31,
   "metadata": {
    "scrolled": true
   },
   "outputs": [
    {
     "name": "stdout",
     "output_type": "stream",
     "text": [
      "CPU times: user 7.37 s, sys: 29.4 ms, total: 7.4 s\n",
      "Wall time: 7.36 s\n"
     ]
    },
    {
     "data": {
      "text/plain": [
       "Pipeline(steps=[('preprocessor',\n",
       "                 ColumnTransformer(transformers=[('numeric_transformer',\n",
       "                                                  StandardScaler(),\n",
       "                                                  ['RegistrationYear', 'Power',\n",
       "                                                   'Kilometer',\n",
       "                                                   'RegistrationMonth']),\n",
       "                                                 ('categorical_transformer',\n",
       "                                                  OrdinalEncoder(handle_unknown='use_encoded_value',\n",
       "                                                                 unknown_value=-1),\n",
       "                                                  ['VehicleType', 'Gearbox',\n",
       "                                                   'Model', 'FuelType', 'Brand',\n",
       "                                                   'Repaired'])])),\n",
       "                ('regressor',\n",
       "                 LGBMRegressor(n_estimators=150, num_leaves=35,\n",
       "                               random_state=42))])"
      ]
     },
     "execution_count": 31,
     "metadata": {},
     "output_type": "execute_result"
    }
   ],
   "source": [
    "%%time\n",
    "\n",
    "# Обучение модели LGBMRegressor\n",
    "lgb = LGBMRegressor(n_estimators=150, num_leaves=35, random_state=42)\n",
    "lgb_pipe = Pipeline(steps=[('preprocessor', preprocessor), ('regressor', lgb)])\n",
    "lgb_pipe.fit(X_train, y_train)"
   ]
  },
  {
   "cell_type": "code",
   "execution_count": 32,
   "metadata": {},
   "outputs": [
    {
     "name": "stdout",
     "output_type": "stream",
     "text": [
      "LGBMRegressor RMSE: 1644.850\n",
      "CPU times: user 490 ms, sys: 0 ns, total: 490 ms\n",
      "Wall time: 501 ms\n"
     ]
    }
   ],
   "source": [
    "%%time\n",
    "\n",
    "# Предсказания модели LGBMRegressor\n",
    "y_pred_lgb = lgb_pipe.predict(X_valid)\n",
    "\n",
    "rmse_lgb = mean_squared_error(y_valid, y_pred_lgb) ** 0.5\n",
    "print(\"LGBMRegressor RMSE: {:.3f}\".format(rmse_lgb))"
   ]
  },
  {
   "cell_type": "markdown",
   "metadata": {},
   "source": [
    "<a name='analysis'></a>\n",
    "## 3. Анализ моделей\n",
    "[Вернуться во Введение](#introduction)"
   ]
  },
  {
   "cell_type": "markdown",
   "metadata": {},
   "source": [
    "Рассмотрено 3 модели с соответствующими гиперпараметрами, а также значениями метрики RMSE и временем обучения:\n",
    "- LinearRegression():\n",
    "    - RMSE: 2889.069;\n",
    "    - Время обучения: 377 ms;\n",
    "    - Время предсказания: 125 ms.\n",
    "\n",
    "- DecisionTreeRegressor(max_depth=16, min_samples_split=20, random_state=42):\n",
    "    - RMSE: 1841.436;\n",
    "    - Время обучения: 1.18 s;\n",
    "    - Время предсказания: 75 ms.\n",
    "\n",
    "- LGBMRegressor(n_estimators=150, num_leaves=35, random_state=42):\n",
    "    - RMSE: 1644.850;\n",
    "    - Время обучения: 8.7 s;\n",
    "    - Время предсказания: 524 ms."
   ]
  },
  {
   "cell_type": "markdown",
   "metadata": {},
   "source": [
    "Наилучшее значение метрики RMSE демонстрирует модель LGBMRegressor. Вдобавок, скорость обучения и предсказания не столь высока, чтобы была сильно заметна пользователю. Ввиду чего, проверим на тестовой выборке именно модель LGBMRegressor."
   ]
  },
  {
   "cell_type": "code",
   "execution_count": 33,
   "metadata": {},
   "outputs": [
    {
     "name": "stdout",
     "output_type": "stream",
     "text": [
      "LGBMRegressor RMSE: 1661.995\n",
      "CPU times: user 493 ms, sys: 0 ns, total: 493 ms\n",
      "Wall time: 496 ms\n"
     ]
    }
   ],
   "source": [
    "%%time\n",
    "\n",
    "# LGBMRegressor\n",
    "y_pred_final = lgb_pipe.predict(X_test)\n",
    "rmse = mean_squared_error(y_test, y_pred_final) ** 0.5\n",
    "print(\"LGBMRegressor RMSE: {:.3f}\".format(rmse))"
   ]
  },
  {
   "cell_type": "markdown",
   "metadata": {},
   "source": [
    "<a name='conclusion'></a>\n",
    "## 4. Вывод\n",
    "[Вернуться во Введение](#introduction)"
   ]
  },
  {
   "cell_type": "markdown",
   "metadata": {},
   "source": [
    "LinearRegression не выполняет необходимые требования касательно допустимого значения метрики RMSE (< 2500). DecisionTreeRegressor хорошо справляется с поставленной задачей, демонстрируя значение RMSE в районе 1844. В дополнение, у нее довольно быстрая скорость обучения и предсказания. Однако, лучше c метрикой RMSE справляется модель LGBMRegressor, значение которой составляет 1644 на валидационной выборке. Также, незначительное повышение в скорости предсказания не столь заметно было бы для пользователя, поэтому лучшим решением было бы использовать именно ее.\n",
    "\n",
    "***Рекомендация***: \n",
    "\n",
    "- **LGBMRegressor(n_estimators=150, num_leaves=35)** - лучшее значение метрики RMSE на валидационной выборке - **1644** (на почти 200 пунктов меньше DecisionTreeRegressor)."
   ]
  },
  {
   "cell_type": "code",
   "execution_count": null,
   "metadata": {},
   "outputs": [],
   "source": []
  }
 ],
 "metadata": {
  "ExecuteTimeLog": [
   {
    "duration": 358,
    "start_time": "2023-04-18T08:25:51.354Z"
   },
   {
    "duration": 80,
    "start_time": "2023-04-18T08:28:32.626Z"
   },
   {
    "duration": 3,
    "start_time": "2023-04-18T08:28:41.581Z"
   },
   {
    "duration": 736,
    "start_time": "2023-04-18T08:28:41.586Z"
   },
   {
    "duration": 17,
    "start_time": "2023-04-18T08:28:46.560Z"
   },
   {
    "duration": 56,
    "start_time": "2023-04-18T08:29:46.604Z"
   },
   {
    "duration": 706,
    "start_time": "2023-04-18T08:29:49.879Z"
   },
   {
    "duration": 13,
    "start_time": "2023-04-18T08:29:50.587Z"
   },
   {
    "duration": 105,
    "start_time": "2023-04-18T08:29:50.601Z"
   },
   {
    "duration": 18,
    "start_time": "2023-04-18T08:32:00.962Z"
   },
   {
    "duration": 17,
    "start_time": "2023-04-18T08:32:17.680Z"
   },
   {
    "duration": 53,
    "start_time": "2023-04-18T08:32:33.766Z"
   },
   {
    "duration": 54,
    "start_time": "2023-04-18T08:34:14.778Z"
   },
   {
    "duration": 54,
    "start_time": "2023-04-18T08:34:27.141Z"
   },
   {
    "duration": 50,
    "start_time": "2023-04-18T08:34:47.039Z"
   },
   {
    "duration": 45,
    "start_time": "2023-04-18T08:37:03.935Z"
   },
   {
    "duration": 98,
    "start_time": "2023-04-18T08:37:16.119Z"
   },
   {
    "duration": 35,
    "start_time": "2023-04-18T08:37:39.879Z"
   },
   {
    "duration": 55,
    "start_time": "2023-04-18T08:37:43.581Z"
   },
   {
    "duration": 18,
    "start_time": "2023-04-18T08:38:26.152Z"
   },
   {
    "duration": 64,
    "start_time": "2023-04-18T08:38:53.271Z"
   },
   {
    "duration": 9,
    "start_time": "2023-04-18T09:46:12.618Z"
   },
   {
    "duration": 95,
    "start_time": "2023-04-18T09:46:22.022Z"
   },
   {
    "duration": 235,
    "start_time": "2023-04-18T09:46:24.163Z"
   },
   {
    "duration": 51,
    "start_time": "2023-04-18T09:54:35.022Z"
   },
   {
    "duration": 442,
    "start_time": "2023-04-18T09:54:40.120Z"
   },
   {
    "duration": 1447,
    "start_time": "2023-04-18T09:54:40.564Z"
   },
   {
    "duration": 23,
    "start_time": "2023-04-18T09:54:42.019Z"
   },
   {
    "duration": 207,
    "start_time": "2023-04-18T09:54:42.044Z"
   },
   {
    "duration": 19,
    "start_time": "2023-04-18T09:54:42.253Z"
   },
   {
    "duration": 152,
    "start_time": "2023-04-18T09:55:56.679Z"
   },
   {
    "duration": 118,
    "start_time": "2023-04-18T09:56:57.523Z"
   },
   {
    "duration": 3268,
    "start_time": "2023-04-18T09:57:14.723Z"
   },
   {
    "duration": 2791,
    "start_time": "2023-04-18T09:57:32.874Z"
   },
   {
    "duration": 58,
    "start_time": "2023-04-18T09:57:46.902Z"
   },
   {
    "duration": 88,
    "start_time": "2023-04-18T09:57:52.675Z"
   },
   {
    "duration": 33,
    "start_time": "2023-04-18T09:58:01.640Z"
   },
   {
    "duration": 154,
    "start_time": "2023-04-18T09:59:57.511Z"
   },
   {
    "duration": 68,
    "start_time": "2023-04-19T16:19:17.152Z"
   },
   {
    "duration": 430,
    "start_time": "2023-04-19T16:19:21.661Z"
   },
   {
    "duration": 4194,
    "start_time": "2023-04-19T16:19:22.103Z"
   },
   {
    "duration": 24,
    "start_time": "2023-04-19T16:19:26.299Z"
   },
   {
    "duration": 123,
    "start_time": "2023-04-19T16:19:26.325Z"
   },
   {
    "duration": 136,
    "start_time": "2023-04-19T16:19:26.449Z"
   },
   {
    "duration": 22,
    "start_time": "2023-04-19T16:19:26.586Z"
   },
   {
    "duration": 26,
    "start_time": "2023-04-19T16:20:15.201Z"
   },
   {
    "duration": 16,
    "start_time": "2023-04-19T16:20:18.989Z"
   },
   {
    "duration": 30,
    "start_time": "2023-04-19T16:21:39.201Z"
   },
   {
    "duration": 205,
    "start_time": "2023-04-19T16:22:01.898Z"
   },
   {
    "duration": 128,
    "start_time": "2023-04-19T16:22:10.746Z"
   },
   {
    "duration": 473,
    "start_time": "2023-04-19T16:23:19.127Z"
   },
   {
    "duration": 83,
    "start_time": "2023-04-19T16:24:08.241Z"
   },
   {
    "duration": 67,
    "start_time": "2023-04-19T16:24:19.481Z"
   },
   {
    "duration": 4,
    "start_time": "2023-04-19T16:24:21.890Z"
   },
   {
    "duration": 113,
    "start_time": "2023-04-19T16:28:54.792Z"
   },
   {
    "duration": 9,
    "start_time": "2023-04-19T16:29:34.526Z"
   },
   {
    "duration": 8,
    "start_time": "2023-04-19T16:29:39.139Z"
   },
   {
    "duration": 8,
    "start_time": "2023-04-19T16:29:41.009Z"
   },
   {
    "duration": 5,
    "start_time": "2023-04-19T16:29:42.883Z"
   },
   {
    "duration": 78,
    "start_time": "2023-04-19T16:30:01.106Z"
   },
   {
    "duration": 5,
    "start_time": "2023-04-19T16:30:40.418Z"
   },
   {
    "duration": 5,
    "start_time": "2023-04-19T16:30:45.218Z"
   },
   {
    "duration": 24,
    "start_time": "2023-04-19T16:31:01.074Z"
   },
   {
    "duration": 43,
    "start_time": "2023-04-19T16:32:22.947Z"
   },
   {
    "duration": 34,
    "start_time": "2023-04-19T16:32:38.206Z"
   },
   {
    "duration": 40,
    "start_time": "2023-04-19T16:32:40.597Z"
   },
   {
    "duration": 37,
    "start_time": "2023-04-19T16:32:43.394Z"
   },
   {
    "duration": 47,
    "start_time": "2023-04-19T16:32:45.788Z"
   },
   {
    "duration": 34,
    "start_time": "2023-04-19T16:32:50.802Z"
   },
   {
    "duration": 34,
    "start_time": "2023-04-19T16:32:56.703Z"
   },
   {
    "duration": 118,
    "start_time": "2023-04-19T16:34:58.680Z"
   },
   {
    "duration": 10,
    "start_time": "2023-04-19T16:35:02.094Z"
   },
   {
    "duration": 9,
    "start_time": "2023-04-19T16:35:07.496Z"
   },
   {
    "duration": 9,
    "start_time": "2023-04-19T16:35:10.682Z"
   },
   {
    "duration": 107,
    "start_time": "2023-04-19T16:35:27.505Z"
   },
   {
    "duration": 18,
    "start_time": "2023-04-19T16:35:35.192Z"
   },
   {
    "duration": 8,
    "start_time": "2023-04-19T16:37:26.939Z"
   },
   {
    "duration": 50,
    "start_time": "2023-04-19T16:37:58.315Z"
   },
   {
    "duration": 33,
    "start_time": "2023-04-19T16:38:01.242Z"
   },
   {
    "duration": 6,
    "start_time": "2023-04-19T16:39:31.806Z"
   },
   {
    "duration": 28,
    "start_time": "2023-04-19T16:39:35.307Z"
   },
   {
    "duration": 23,
    "start_time": "2023-04-19T16:39:41.948Z"
   },
   {
    "duration": 32,
    "start_time": "2023-04-19T16:39:52.378Z"
   },
   {
    "duration": 78,
    "start_time": "2023-04-19T16:40:08.720Z"
   },
   {
    "duration": 45,
    "start_time": "2023-04-19T16:40:18.548Z"
   },
   {
    "duration": 71,
    "start_time": "2023-04-19T16:40:20.882Z"
   },
   {
    "duration": 63,
    "start_time": "2023-04-19T16:40:26.613Z"
   },
   {
    "duration": 83,
    "start_time": "2023-04-19T16:40:30.205Z"
   },
   {
    "duration": 1311,
    "start_time": "2023-04-19T16:40:51.598Z"
   },
   {
    "duration": 30,
    "start_time": "2023-04-19T16:40:59.379Z"
   },
   {
    "duration": 48,
    "start_time": "2023-04-19T16:42:08.684Z"
   },
   {
    "duration": 58,
    "start_time": "2023-04-19T16:42:19.303Z"
   },
   {
    "duration": 47,
    "start_time": "2023-04-19T16:42:25.203Z"
   },
   {
    "duration": 56,
    "start_time": "2023-04-19T16:42:29.606Z"
   },
   {
    "duration": 7,
    "start_time": "2023-04-19T16:43:35.309Z"
   },
   {
    "duration": 7,
    "start_time": "2023-04-19T16:43:44.019Z"
   },
   {
    "duration": 12,
    "start_time": "2023-04-19T16:43:47.916Z"
   },
   {
    "duration": 6,
    "start_time": "2023-04-19T16:43:50.901Z"
   },
   {
    "duration": 10,
    "start_time": "2023-04-19T16:45:33.293Z"
   },
   {
    "duration": 23,
    "start_time": "2023-04-19T16:46:27.194Z"
   },
   {
    "duration": 20,
    "start_time": "2023-04-19T16:46:29.693Z"
   },
   {
    "duration": 36,
    "start_time": "2023-04-19T16:46:46.210Z"
   },
   {
    "duration": 38,
    "start_time": "2023-04-19T16:46:47.442Z"
   },
   {
    "duration": 424,
    "start_time": "2023-04-19T18:00:12.003Z"
   },
   {
    "duration": 959,
    "start_time": "2023-04-19T18:00:12.429Z"
   },
   {
    "duration": 25,
    "start_time": "2023-04-19T18:00:13.392Z"
   },
   {
    "duration": 5,
    "start_time": "2023-04-19T18:00:13.419Z"
   },
   {
    "duration": 123,
    "start_time": "2023-04-19T18:00:13.425Z"
   },
   {
    "duration": 91,
    "start_time": "2023-04-19T18:00:13.559Z"
   },
   {
    "duration": 323,
    "start_time": "2023-04-19T18:00:13.655Z"
   },
   {
    "duration": 162,
    "start_time": "2023-04-19T18:00:13.981Z"
   },
   {
    "duration": 62,
    "start_time": "2023-04-19T18:00:14.145Z"
   },
   {
    "duration": 59,
    "start_time": "2023-04-19T18:00:14.210Z"
   },
   {
    "duration": 34,
    "start_time": "2023-04-19T18:00:14.272Z"
   },
   {
    "duration": 10,
    "start_time": "2023-04-19T18:00:14.307Z"
   },
   {
    "duration": 46,
    "start_time": "2023-04-19T18:00:14.318Z"
   },
   {
    "duration": 20,
    "start_time": "2023-04-19T18:01:27.318Z"
   },
   {
    "duration": 19,
    "start_time": "2023-04-19T18:04:22.098Z"
   },
   {
    "duration": 22,
    "start_time": "2023-04-19T18:04:36.231Z"
   },
   {
    "duration": 21,
    "start_time": "2023-04-19T18:04:38.496Z"
   },
   {
    "duration": 21,
    "start_time": "2023-04-19T18:04:47.502Z"
   },
   {
    "duration": 30,
    "start_time": "2023-04-19T18:04:57.125Z"
   },
   {
    "duration": 31,
    "start_time": "2023-04-19T18:05:00.587Z"
   },
   {
    "duration": 20,
    "start_time": "2023-04-19T18:05:05.775Z"
   },
   {
    "duration": 21,
    "start_time": "2023-04-19T18:05:05.936Z"
   },
   {
    "duration": 81,
    "start_time": "2023-04-19T18:06:43.878Z"
   },
   {
    "duration": 7,
    "start_time": "2023-04-19T18:17:19.251Z"
   },
   {
    "duration": 26,
    "start_time": "2023-04-19T18:17:23.095Z"
   },
   {
    "duration": 10,
    "start_time": "2023-04-19T19:11:14.544Z"
   },
   {
    "duration": 12,
    "start_time": "2023-04-19T19:11:31.389Z"
   },
   {
    "duration": 9,
    "start_time": "2023-04-19T19:11:57.835Z"
   },
   {
    "duration": 8,
    "start_time": "2023-04-19T19:12:02.711Z"
   },
   {
    "duration": 31,
    "start_time": "2023-04-19T19:12:08.190Z"
   },
   {
    "duration": 13,
    "start_time": "2023-04-19T19:12:14.488Z"
   },
   {
    "duration": 9,
    "start_time": "2023-04-19T19:12:19.288Z"
   },
   {
    "duration": 10,
    "start_time": "2023-04-19T19:12:22.739Z"
   },
   {
    "duration": 20,
    "start_time": "2023-04-19T19:12:24.920Z"
   },
   {
    "duration": 10,
    "start_time": "2023-04-19T19:12:26.886Z"
   },
   {
    "duration": 10,
    "start_time": "2023-04-19T19:12:30.036Z"
   },
   {
    "duration": 12,
    "start_time": "2023-04-19T19:13:18.086Z"
   },
   {
    "duration": 9,
    "start_time": "2023-04-19T19:14:25.287Z"
   },
   {
    "duration": 3,
    "start_time": "2023-04-19T19:14:42.699Z"
   },
   {
    "duration": 819,
    "start_time": "2023-04-19T19:14:42.704Z"
   },
   {
    "duration": 12,
    "start_time": "2023-04-19T19:14:43.525Z"
   },
   {
    "duration": 48,
    "start_time": "2023-04-19T19:14:43.539Z"
   },
   {
    "duration": 109,
    "start_time": "2023-04-19T19:14:43.590Z"
   },
   {
    "duration": 95,
    "start_time": "2023-04-19T19:14:43.700Z"
   },
   {
    "duration": 20,
    "start_time": "2023-04-19T19:14:43.796Z"
   },
   {
    "duration": 274,
    "start_time": "2023-04-19T19:14:43.819Z"
   },
   {
    "duration": 129,
    "start_time": "2023-04-19T19:14:44.094Z"
   },
   {
    "duration": 61,
    "start_time": "2023-04-19T19:14:44.225Z"
   },
   {
    "duration": 30,
    "start_time": "2023-04-19T19:14:44.292Z"
   },
   {
    "duration": 29,
    "start_time": "2023-04-19T19:14:44.324Z"
   },
   {
    "duration": 23,
    "start_time": "2023-04-19T19:14:44.355Z"
   },
   {
    "duration": 14,
    "start_time": "2023-04-19T19:15:21.295Z"
   },
   {
    "duration": 15,
    "start_time": "2023-04-19T19:15:47.231Z"
   },
   {
    "duration": 16,
    "start_time": "2023-04-19T19:16:01.440Z"
   },
   {
    "duration": 384,
    "start_time": "2023-04-19T19:16:13.587Z"
   },
   {
    "duration": 1016,
    "start_time": "2023-04-19T19:16:13.982Z"
   },
   {
    "duration": 22,
    "start_time": "2023-04-19T19:16:15.000Z"
   },
   {
    "duration": 17,
    "start_time": "2023-04-19T19:16:15.024Z"
   },
   {
    "duration": 144,
    "start_time": "2023-04-19T19:16:15.044Z"
   },
   {
    "duration": 128,
    "start_time": "2023-04-19T19:16:15.193Z"
   },
   {
    "duration": 27,
    "start_time": "2023-04-19T19:16:15.323Z"
   },
   {
    "duration": 345,
    "start_time": "2023-04-19T19:16:15.351Z"
   },
   {
    "duration": 176,
    "start_time": "2023-04-19T19:16:15.698Z"
   },
   {
    "duration": 52,
    "start_time": "2023-04-19T19:16:15.875Z"
   },
   {
    "duration": 63,
    "start_time": "2023-04-19T19:16:15.929Z"
   },
   {
    "duration": 29,
    "start_time": "2023-04-19T19:16:15.994Z"
   },
   {
    "duration": 11,
    "start_time": "2023-04-19T19:16:16.024Z"
   },
   {
    "duration": 52,
    "start_time": "2023-04-19T19:16:16.038Z"
   },
   {
    "duration": 40,
    "start_time": "2023-04-19T19:16:16.092Z"
   },
   {
    "duration": 25,
    "start_time": "2023-04-19T19:16:16.134Z"
   },
   {
    "duration": 29,
    "start_time": "2023-04-19T19:17:11.988Z"
   },
   {
    "duration": 24,
    "start_time": "2023-04-19T19:17:14.623Z"
   },
   {
    "duration": 17,
    "start_time": "2023-04-19T19:23:29.523Z"
   },
   {
    "duration": 21,
    "start_time": "2023-04-19T19:24:07.382Z"
   },
   {
    "duration": 5,
    "start_time": "2023-04-19T19:24:12.086Z"
   },
   {
    "duration": 22,
    "start_time": "2023-04-19T19:24:18.001Z"
   },
   {
    "duration": 6,
    "start_time": "2023-04-19T19:24:36.712Z"
   },
   {
    "duration": 101,
    "start_time": "2023-04-19T19:25:08.403Z"
   },
   {
    "duration": 6,
    "start_time": "2023-04-19T19:25:11.641Z"
   },
   {
    "duration": 23,
    "start_time": "2023-04-19T19:25:37.034Z"
   },
   {
    "duration": 21,
    "start_time": "2023-04-19T19:25:43.705Z"
   },
   {
    "duration": 24,
    "start_time": "2023-04-19T19:27:16.775Z"
   },
   {
    "duration": 20,
    "start_time": "2023-04-19T19:27:19.984Z"
   },
   {
    "duration": 23,
    "start_time": "2023-04-19T19:27:22.327Z"
   },
   {
    "duration": 21,
    "start_time": "2023-04-19T19:27:31.523Z"
   },
   {
    "duration": 11,
    "start_time": "2023-04-19T19:27:40.794Z"
   },
   {
    "duration": 16,
    "start_time": "2023-04-19T19:27:58.435Z"
   },
   {
    "duration": 5,
    "start_time": "2023-04-19T19:32:06.898Z"
   },
   {
    "duration": 19,
    "start_time": "2023-04-19T19:33:21.385Z"
   },
   {
    "duration": 26,
    "start_time": "2023-04-19T19:33:23.944Z"
   },
   {
    "duration": 5,
    "start_time": "2023-04-19T19:34:04.031Z"
   },
   {
    "duration": 6,
    "start_time": "2023-04-19T19:34:13.585Z"
   },
   {
    "duration": 87,
    "start_time": "2023-04-19T19:34:40.699Z"
   },
   {
    "duration": 412,
    "start_time": "2023-04-19T19:34:51.252Z"
   },
   {
    "duration": 905,
    "start_time": "2023-04-19T19:34:51.668Z"
   },
   {
    "duration": 22,
    "start_time": "2023-04-19T19:34:52.575Z"
   },
   {
    "duration": 21,
    "start_time": "2023-04-19T19:34:52.598Z"
   },
   {
    "duration": 117,
    "start_time": "2023-04-19T19:34:52.620Z"
   },
   {
    "duration": 94,
    "start_time": "2023-04-19T19:34:52.739Z"
   },
   {
    "duration": 35,
    "start_time": "2023-04-19T19:34:52.834Z"
   },
   {
    "duration": 281,
    "start_time": "2023-04-19T19:34:52.871Z"
   },
   {
    "duration": 153,
    "start_time": "2023-04-19T19:34:53.155Z"
   },
   {
    "duration": 50,
    "start_time": "2023-04-19T19:34:53.310Z"
   },
   {
    "duration": 41,
    "start_time": "2023-04-19T19:34:53.364Z"
   },
   {
    "duration": 40,
    "start_time": "2023-04-19T19:34:53.407Z"
   },
   {
    "duration": 24,
    "start_time": "2023-04-19T19:34:53.449Z"
   },
   {
    "duration": 35,
    "start_time": "2023-04-19T19:34:53.475Z"
   },
   {
    "duration": 27,
    "start_time": "2023-04-19T19:34:53.511Z"
   },
   {
    "duration": 20,
    "start_time": "2023-04-19T19:34:53.540Z"
   },
   {
    "duration": 27,
    "start_time": "2023-04-19T19:34:53.561Z"
   },
   {
    "duration": 18,
    "start_time": "2023-04-19T19:34:53.589Z"
   },
   {
    "duration": 6,
    "start_time": "2023-04-19T19:34:53.608Z"
   },
   {
    "duration": 21,
    "start_time": "2023-04-19T19:34:53.616Z"
   },
   {
    "duration": 69,
    "start_time": "2023-04-19T19:35:38.845Z"
   },
   {
    "duration": 20,
    "start_time": "2023-04-19T19:35:58.331Z"
   },
   {
    "duration": 11,
    "start_time": "2023-04-19T19:37:08.394Z"
   },
   {
    "duration": 59,
    "start_time": "2023-04-19T19:37:13.003Z"
   },
   {
    "duration": 726,
    "start_time": "2023-04-19T19:39:09.044Z"
   },
   {
    "duration": 177,
    "start_time": "2023-04-19T19:39:12.745Z"
   },
   {
    "duration": 90,
    "start_time": "2023-04-19T19:39:39.181Z"
   },
   {
    "duration": 83,
    "start_time": "2023-04-19T19:39:43.313Z"
   },
   {
    "duration": 18,
    "start_time": "2023-04-19T19:39:48.183Z"
   },
   {
    "duration": 17,
    "start_time": "2023-04-19T19:39:50.488Z"
   },
   {
    "duration": 5,
    "start_time": "2023-04-19T19:39:55.697Z"
   },
   {
    "duration": 100,
    "start_time": "2023-04-19T19:40:12.083Z"
   },
   {
    "duration": 17,
    "start_time": "2023-04-19T19:40:14.485Z"
   },
   {
    "duration": 23,
    "start_time": "2023-04-19T19:40:18.067Z"
   },
   {
    "duration": 47,
    "start_time": "2023-04-19T19:41:07.096Z"
   },
   {
    "duration": 3,
    "start_time": "2023-04-19T19:41:59.795Z"
   },
   {
    "duration": 109,
    "start_time": "2023-04-19T19:42:36.582Z"
   },
   {
    "duration": 11,
    "start_time": "2023-04-19T19:42:58.801Z"
   },
   {
    "duration": 3,
    "start_time": "2023-04-19T19:43:10.201Z"
   },
   {
    "duration": 631,
    "start_time": "2023-04-19T19:43:42.251Z"
   },
   {
    "duration": 119,
    "start_time": "2023-04-19T19:43:44.601Z"
   },
   {
    "duration": 28,
    "start_time": "2023-04-19T19:43:57.947Z"
   },
   {
    "duration": 569,
    "start_time": "2023-04-19T19:44:56.581Z"
   },
   {
    "duration": 97,
    "start_time": "2023-04-19T19:44:57.187Z"
   },
   {
    "duration": 148,
    "start_time": "2023-04-19T19:45:39.447Z"
   },
   {
    "duration": 1112,
    "start_time": "2023-04-19T19:46:22.524Z"
   },
   {
    "duration": 866,
    "start_time": "2023-04-19T19:46:23.638Z"
   },
   {
    "duration": 18,
    "start_time": "2023-04-19T19:46:24.506Z"
   },
   {
    "duration": 9,
    "start_time": "2023-04-19T19:46:24.525Z"
   },
   {
    "duration": 116,
    "start_time": "2023-04-19T19:46:24.536Z"
   },
   {
    "duration": 89,
    "start_time": "2023-04-19T19:46:24.657Z"
   },
   {
    "duration": 37,
    "start_time": "2023-04-19T19:46:24.748Z"
   },
   {
    "duration": 290,
    "start_time": "2023-04-19T19:46:24.787Z"
   },
   {
    "duration": 151,
    "start_time": "2023-04-19T19:46:25.079Z"
   },
   {
    "duration": 47,
    "start_time": "2023-04-19T19:46:25.232Z"
   },
   {
    "duration": 39,
    "start_time": "2023-04-19T19:46:25.280Z"
   },
   {
    "duration": 49,
    "start_time": "2023-04-19T19:46:25.321Z"
   },
   {
    "duration": 11,
    "start_time": "2023-04-19T19:46:25.378Z"
   },
   {
    "duration": 32,
    "start_time": "2023-04-19T19:46:25.391Z"
   },
   {
    "duration": 30,
    "start_time": "2023-04-19T19:46:25.425Z"
   },
   {
    "duration": 18,
    "start_time": "2023-04-19T19:46:25.462Z"
   },
   {
    "duration": 23,
    "start_time": "2023-04-19T19:46:25.497Z"
   },
   {
    "duration": 16,
    "start_time": "2023-04-19T19:46:25.522Z"
   },
   {
    "duration": 8,
    "start_time": "2023-04-19T19:46:25.540Z"
   },
   {
    "duration": 33,
    "start_time": "2023-04-19T19:46:25.549Z"
   },
   {
    "duration": 14,
    "start_time": "2023-04-19T19:46:25.583Z"
   },
   {
    "duration": 81,
    "start_time": "2023-04-19T19:46:25.599Z"
   },
   {
    "duration": 72,
    "start_time": "2023-04-19T19:46:25.682Z"
   },
   {
    "duration": 540,
    "start_time": "2023-04-19T19:46:25.755Z"
   },
   {
    "duration": 0,
    "start_time": "2023-04-19T19:46:26.296Z"
   },
   {
    "duration": 583,
    "start_time": "2023-04-19T19:47:18.190Z"
   },
   {
    "duration": 205,
    "start_time": "2023-04-19T19:47:19.983Z"
   },
   {
    "duration": 98,
    "start_time": "2023-04-19T19:47:23.694Z"
   },
   {
    "duration": 3,
    "start_time": "2023-04-19T19:47:29.696Z"
   },
   {
    "duration": 83,
    "start_time": "2023-04-19T19:47:35.805Z"
   },
   {
    "duration": 3,
    "start_time": "2023-04-19T19:47:37.032Z"
   },
   {
    "duration": 7,
    "start_time": "2023-04-19T19:48:30.574Z"
   },
   {
    "duration": 1243,
    "start_time": "2023-04-20T05:19:36.401Z"
   },
   {
    "duration": 1146,
    "start_time": "2023-04-20T05:19:37.646Z"
   },
   {
    "duration": 29,
    "start_time": "2023-04-20T05:19:38.795Z"
   },
   {
    "duration": 71,
    "start_time": "2023-04-20T05:19:38.826Z"
   },
   {
    "duration": 132,
    "start_time": "2023-04-20T05:19:38.899Z"
   },
   {
    "duration": 101,
    "start_time": "2023-04-20T05:19:39.032Z"
   },
   {
    "duration": 25,
    "start_time": "2023-04-20T05:19:39.134Z"
   },
   {
    "duration": 331,
    "start_time": "2023-04-20T05:19:39.161Z"
   },
   {
    "duration": 154,
    "start_time": "2023-04-20T05:19:39.494Z"
   },
   {
    "duration": 53,
    "start_time": "2023-04-20T05:19:39.650Z"
   },
   {
    "duration": 7,
    "start_time": "2023-04-20T05:19:52.980Z"
   },
   {
    "duration": 5,
    "start_time": "2023-04-20T05:19:57.003Z"
   },
   {
    "duration": 108,
    "start_time": "2023-04-20T05:20:00.884Z"
   },
   {
    "duration": 4,
    "start_time": "2023-04-20T05:20:06.147Z"
   },
   {
    "duration": 6,
    "start_time": "2023-04-20T05:20:09.794Z"
   },
   {
    "duration": 3,
    "start_time": "2023-04-20T05:20:10.237Z"
   },
   {
    "duration": 7,
    "start_time": "2023-04-20T05:20:14.513Z"
   },
   {
    "duration": 5,
    "start_time": "2023-04-20T05:20:14.897Z"
   },
   {
    "duration": 12,
    "start_time": "2023-04-20T05:20:28.382Z"
   },
   {
    "duration": 13,
    "start_time": "2023-04-20T05:20:34.258Z"
   },
   {
    "duration": 15,
    "start_time": "2023-04-20T05:21:49.612Z"
   },
   {
    "duration": 44,
    "start_time": "2023-04-20T05:21:51.900Z"
   },
   {
    "duration": 18,
    "start_time": "2023-04-20T05:22:10.340Z"
   },
   {
    "duration": 17,
    "start_time": "2023-04-20T05:22:17.872Z"
   },
   {
    "duration": 23,
    "start_time": "2023-04-20T05:22:20.463Z"
   },
   {
    "duration": 19,
    "start_time": "2023-04-20T05:22:23.556Z"
   },
   {
    "duration": 16,
    "start_time": "2023-04-20T05:22:27.687Z"
   },
   {
    "duration": 18,
    "start_time": "2023-04-20T05:22:30.514Z"
   },
   {
    "duration": 18,
    "start_time": "2023-04-20T05:22:34.116Z"
   },
   {
    "duration": 17,
    "start_time": "2023-04-20T05:23:01.721Z"
   },
   {
    "duration": 4,
    "start_time": "2023-04-20T05:23:14.369Z"
   },
   {
    "duration": 875,
    "start_time": "2023-04-20T05:23:14.375Z"
   },
   {
    "duration": 15,
    "start_time": "2023-04-20T05:23:15.252Z"
   },
   {
    "duration": 20,
    "start_time": "2023-04-20T05:23:15.268Z"
   },
   {
    "duration": 141,
    "start_time": "2023-04-20T05:23:15.291Z"
   },
   {
    "duration": 107,
    "start_time": "2023-04-20T05:23:15.434Z"
   },
   {
    "duration": 25,
    "start_time": "2023-04-20T05:23:15.543Z"
   },
   {
    "duration": 304,
    "start_time": "2023-04-20T05:23:15.570Z"
   },
   {
    "duration": 80,
    "start_time": "2023-04-20T05:23:15.876Z"
   },
   {
    "duration": 65,
    "start_time": "2023-04-20T05:23:15.958Z"
   },
   {
    "duration": 39,
    "start_time": "2023-04-20T05:23:16.026Z"
   },
   {
    "duration": 42,
    "start_time": "2023-04-20T05:23:16.067Z"
   },
   {
    "duration": 14,
    "start_time": "2023-04-20T05:23:16.111Z"
   },
   {
    "duration": 27,
    "start_time": "2023-04-20T05:23:16.127Z"
   },
   {
    "duration": 53,
    "start_time": "2023-04-20T05:23:16.156Z"
   },
   {
    "duration": 17,
    "start_time": "2023-04-20T05:23:16.211Z"
   },
   {
    "duration": 24,
    "start_time": "2023-04-20T05:23:16.230Z"
   },
   {
    "duration": 24,
    "start_time": "2023-04-20T05:24:45.006Z"
   },
   {
    "duration": 6,
    "start_time": "2023-04-20T05:24:54.952Z"
   },
   {
    "duration": 16,
    "start_time": "2023-04-20T05:25:16.165Z"
   },
   {
    "duration": 99,
    "start_time": "2023-04-20T05:25:16.350Z"
   },
   {
    "duration": 186,
    "start_time": "2023-04-20T05:25:17.641Z"
   },
   {
    "duration": 4,
    "start_time": "2023-04-20T05:25:37.484Z"
   },
   {
    "duration": 864,
    "start_time": "2023-04-20T05:25:37.490Z"
   },
   {
    "duration": 15,
    "start_time": "2023-04-20T05:25:38.356Z"
   },
   {
    "duration": 15,
    "start_time": "2023-04-20T05:25:38.373Z"
   },
   {
    "duration": 152,
    "start_time": "2023-04-20T05:25:38.391Z"
   },
   {
    "duration": 108,
    "start_time": "2023-04-20T05:25:38.545Z"
   },
   {
    "duration": 37,
    "start_time": "2023-04-20T05:25:38.655Z"
   },
   {
    "duration": 309,
    "start_time": "2023-04-20T05:25:38.694Z"
   },
   {
    "duration": 144,
    "start_time": "2023-04-20T05:25:39.005Z"
   },
   {
    "duration": 48,
    "start_time": "2023-04-20T05:25:39.151Z"
   },
   {
    "duration": 33,
    "start_time": "2023-04-20T05:25:39.201Z"
   },
   {
    "duration": 27,
    "start_time": "2023-04-20T05:25:39.236Z"
   },
   {
    "duration": 29,
    "start_time": "2023-04-20T05:25:39.265Z"
   },
   {
    "duration": 26,
    "start_time": "2023-04-20T05:25:39.295Z"
   },
   {
    "duration": 31,
    "start_time": "2023-04-20T05:25:39.323Z"
   },
   {
    "duration": 17,
    "start_time": "2023-04-20T05:25:39.388Z"
   },
   {
    "duration": 24,
    "start_time": "2023-04-20T05:25:39.407Z"
   },
   {
    "duration": 20,
    "start_time": "2023-04-20T05:25:39.433Z"
   },
   {
    "duration": 6,
    "start_time": "2023-04-20T05:25:39.488Z"
   },
   {
    "duration": 1187,
    "start_time": "2023-04-20T05:25:41.697Z"
   },
   {
    "duration": 923,
    "start_time": "2023-04-20T05:25:42.886Z"
   },
   {
    "duration": 22,
    "start_time": "2023-04-20T05:25:43.811Z"
   },
   {
    "duration": 14,
    "start_time": "2023-04-20T05:25:43.836Z"
   },
   {
    "duration": 153,
    "start_time": "2023-04-20T05:25:43.851Z"
   },
   {
    "duration": 139,
    "start_time": "2023-04-20T05:25:44.006Z"
   },
   {
    "duration": 27,
    "start_time": "2023-04-20T05:25:44.147Z"
   },
   {
    "duration": 342,
    "start_time": "2023-04-20T05:25:44.187Z"
   },
   {
    "duration": 171,
    "start_time": "2023-04-20T05:25:44.532Z"
   },
   {
    "duration": 41,
    "start_time": "2023-04-20T05:25:44.705Z"
   },
   {
    "duration": 62,
    "start_time": "2023-04-20T05:25:44.748Z"
   },
   {
    "duration": 27,
    "start_time": "2023-04-20T05:25:44.813Z"
   },
   {
    "duration": 11,
    "start_time": "2023-04-20T05:25:44.842Z"
   },
   {
    "duration": 51,
    "start_time": "2023-04-20T05:25:44.855Z"
   },
   {
    "duration": 30,
    "start_time": "2023-04-20T05:25:44.908Z"
   },
   {
    "duration": 148,
    "start_time": "2023-04-20T05:25:44.940Z"
   },
   {
    "duration": 0,
    "start_time": "2023-04-20T05:25:45.089Z"
   },
   {
    "duration": 0,
    "start_time": "2023-04-20T05:25:45.091Z"
   },
   {
    "duration": 0,
    "start_time": "2023-04-20T05:25:45.093Z"
   },
   {
    "duration": 0,
    "start_time": "2023-04-20T05:25:45.094Z"
   },
   {
    "duration": 0,
    "start_time": "2023-04-20T05:25:45.096Z"
   },
   {
    "duration": 0,
    "start_time": "2023-04-20T05:25:45.097Z"
   },
   {
    "duration": 0,
    "start_time": "2023-04-20T05:25:45.098Z"
   },
   {
    "duration": 0,
    "start_time": "2023-04-20T05:25:45.100Z"
   },
   {
    "duration": 17,
    "start_time": "2023-04-20T05:25:54.993Z"
   },
   {
    "duration": 17,
    "start_time": "2023-04-20T05:25:59.629Z"
   },
   {
    "duration": 18,
    "start_time": "2023-04-20T05:26:05.547Z"
   },
   {
    "duration": 16,
    "start_time": "2023-04-20T05:26:22.495Z"
   },
   {
    "duration": 17,
    "start_time": "2023-04-20T05:26:32.004Z"
   },
   {
    "duration": 23,
    "start_time": "2023-04-20T05:26:39.202Z"
   },
   {
    "duration": 20,
    "start_time": "2023-04-20T05:26:39.493Z"
   },
   {
    "duration": 6,
    "start_time": "2023-04-20T05:26:39.784Z"
   },
   {
    "duration": 14,
    "start_time": "2023-04-20T05:26:40.103Z"
   },
   {
    "duration": 86,
    "start_time": "2023-04-20T05:26:40.279Z"
   },
   {
    "duration": 600,
    "start_time": "2023-04-20T05:26:41.509Z"
   },
   {
    "duration": 98,
    "start_time": "2023-04-20T05:26:42.111Z"
   },
   {
    "duration": 3,
    "start_time": "2023-04-20T05:26:42.571Z"
   },
   {
    "duration": 10758,
    "start_time": "2023-04-20T05:28:52.477Z"
   },
   {
    "duration": 76309,
    "start_time": "2023-04-20T05:29:04.719Z"
   },
   {
    "duration": 4,
    "start_time": "2023-04-20T05:30:48.800Z"
   },
   {
    "duration": 3,
    "start_time": "2023-04-20T05:33:50.741Z"
   },
   {
    "duration": 4,
    "start_time": "2023-04-20T05:35:23.120Z"
   },
   {
    "duration": 4,
    "start_time": "2023-04-20T05:36:19.426Z"
   },
   {
    "duration": 10,
    "start_time": "2023-04-20T05:37:11.662Z"
   },
   {
    "duration": 11,
    "start_time": "2023-04-20T05:37:15.298Z"
   },
   {
    "duration": 6100,
    "start_time": "2023-04-20T05:37:18.242Z"
   },
   {
    "duration": 14113,
    "start_time": "2023-04-20T05:37:50.941Z"
   },
   {
    "duration": 232522,
    "start_time": "2023-04-20T05:38:08.788Z"
   },
   {
    "duration": 930,
    "start_time": "2023-04-20T05:43:43.057Z"
   },
   {
    "duration": 4,
    "start_time": "2023-04-20T05:43:46.933Z"
   },
   {
    "duration": 95,
    "start_time": "2023-04-20T05:44:04.611Z"
   },
   {
    "duration": 778,
    "start_time": "2023-04-20T05:44:19.310Z"
   },
   {
    "duration": 4,
    "start_time": "2023-04-20T05:44:20.091Z"
   },
   {
    "duration": 26,
    "start_time": "2023-04-20T05:44:54.678Z"
   },
   {
    "duration": 222,
    "start_time": "2023-04-20T05:44:59.166Z"
   },
   {
    "duration": 67,
    "start_time": "2023-04-20T05:45:01.022Z"
   },
   {
    "duration": 789,
    "start_time": "2023-04-20T05:45:11.123Z"
   },
   {
    "duration": 4,
    "start_time": "2023-04-20T05:45:21.862Z"
   },
   {
    "duration": 877,
    "start_time": "2023-04-20T05:45:21.868Z"
   },
   {
    "duration": 16,
    "start_time": "2023-04-20T05:45:22.748Z"
   },
   {
    "duration": 23,
    "start_time": "2023-04-20T05:45:22.766Z"
   },
   {
    "duration": 216,
    "start_time": "2023-04-20T05:45:22.792Z"
   },
   {
    "duration": 119,
    "start_time": "2023-04-20T05:45:23.010Z"
   },
   {
    "duration": 24,
    "start_time": "2023-04-20T05:45:23.131Z"
   },
   {
    "duration": 307,
    "start_time": "2023-04-20T05:45:23.157Z"
   },
   {
    "duration": 156,
    "start_time": "2023-04-20T05:45:23.466Z"
   },
   {
    "duration": 39,
    "start_time": "2023-04-20T05:45:23.624Z"
   },
   {
    "duration": 45,
    "start_time": "2023-04-20T05:45:23.666Z"
   },
   {
    "duration": 34,
    "start_time": "2023-04-20T05:45:23.714Z"
   },
   {
    "duration": 13,
    "start_time": "2023-04-20T05:45:23.750Z"
   },
   {
    "duration": 38,
    "start_time": "2023-04-20T05:45:23.787Z"
   },
   {
    "duration": 32,
    "start_time": "2023-04-20T05:45:23.827Z"
   },
   {
    "duration": 40,
    "start_time": "2023-04-20T05:45:23.861Z"
   },
   {
    "duration": 23,
    "start_time": "2023-04-20T05:45:23.904Z"
   },
   {
    "duration": 20,
    "start_time": "2023-04-20T05:45:23.929Z"
   },
   {
    "duration": 39,
    "start_time": "2023-04-20T05:45:23.951Z"
   },
   {
    "duration": 20,
    "start_time": "2023-04-20T05:45:23.992Z"
   },
   {
    "duration": 102,
    "start_time": "2023-04-20T05:45:24.015Z"
   },
   {
    "duration": 726,
    "start_time": "2023-04-20T05:45:24.119Z"
   },
   {
    "duration": 144,
    "start_time": "2023-04-20T05:45:24.847Z"
   },
   {
    "duration": 897,
    "start_time": "2023-04-20T05:45:24.994Z"
   },
   {
    "duration": 816,
    "start_time": "2023-04-20T05:45:37.372Z"
   },
   {
    "duration": 77,
    "start_time": "2023-04-20T05:45:53.720Z"
   },
   {
    "duration": 3791,
    "start_time": "2023-04-20T05:45:55.617Z"
   },
   {
    "duration": 0,
    "start_time": "2023-04-20T05:45:59.410Z"
   },
   {
    "duration": 794,
    "start_time": "2023-04-20T05:46:02.455Z"
   },
   {
    "duration": 0,
    "start_time": "2023-04-20T05:51:19.471Z"
   },
   {
    "duration": 0,
    "start_time": "2023-04-20T05:51:19.472Z"
   },
   {
    "duration": 7398,
    "start_time": "2023-04-20T05:51:20.806Z"
   },
   {
    "duration": 37864,
    "start_time": "2023-04-20T05:51:28.207Z"
   },
   {
    "duration": 0,
    "start_time": "2023-04-20T05:52:06.075Z"
   },
   {
    "duration": 1214,
    "start_time": "2023-04-20T05:52:14.725Z"
   },
   {
    "duration": 1017,
    "start_time": "2023-04-20T05:52:15.941Z"
   },
   {
    "duration": 20,
    "start_time": "2023-04-20T05:52:16.960Z"
   },
   {
    "duration": 14,
    "start_time": "2023-04-20T05:52:16.994Z"
   },
   {
    "duration": 167,
    "start_time": "2023-04-20T05:52:17.013Z"
   },
   {
    "duration": 126,
    "start_time": "2023-04-20T05:52:17.182Z"
   },
   {
    "duration": 31,
    "start_time": "2023-04-20T05:52:17.311Z"
   },
   {
    "duration": 394,
    "start_time": "2023-04-20T05:52:17.344Z"
   },
   {
    "duration": 170,
    "start_time": "2023-04-20T05:52:17.740Z"
   },
   {
    "duration": 44,
    "start_time": "2023-04-20T05:52:17.912Z"
   },
   {
    "duration": 64,
    "start_time": "2023-04-20T05:52:17.957Z"
   },
   {
    "duration": 27,
    "start_time": "2023-04-20T05:52:18.023Z"
   },
   {
    "duration": 10,
    "start_time": "2023-04-20T05:52:18.052Z"
   },
   {
    "duration": 59,
    "start_time": "2023-04-20T05:52:18.065Z"
   },
   {
    "duration": 31,
    "start_time": "2023-04-20T05:52:18.126Z"
   },
   {
    "duration": 32,
    "start_time": "2023-04-20T05:52:18.158Z"
   },
   {
    "duration": 128,
    "start_time": "2023-04-20T05:52:18.202Z"
   },
   {
    "duration": 0,
    "start_time": "2023-04-20T05:52:18.332Z"
   },
   {
    "duration": 0,
    "start_time": "2023-04-20T05:52:18.333Z"
   },
   {
    "duration": 0,
    "start_time": "2023-04-20T05:52:18.335Z"
   },
   {
    "duration": 0,
    "start_time": "2023-04-20T05:52:18.336Z"
   },
   {
    "duration": 0,
    "start_time": "2023-04-20T05:52:18.337Z"
   },
   {
    "duration": 0,
    "start_time": "2023-04-20T05:52:18.338Z"
   },
   {
    "duration": 0,
    "start_time": "2023-04-20T05:52:18.340Z"
   },
   {
    "duration": 0,
    "start_time": "2023-04-20T05:52:18.341Z"
   },
   {
    "duration": 0,
    "start_time": "2023-04-20T05:52:18.342Z"
   },
   {
    "duration": 0,
    "start_time": "2023-04-20T05:52:18.343Z"
   },
   {
    "duration": 23,
    "start_time": "2023-04-20T05:52:31.844Z"
   },
   {
    "duration": 18,
    "start_time": "2023-04-20T05:52:32.731Z"
   },
   {
    "duration": 6,
    "start_time": "2023-04-20T05:52:33.529Z"
   },
   {
    "duration": 14,
    "start_time": "2023-04-20T05:52:34.252Z"
   },
   {
    "duration": 96,
    "start_time": "2023-04-20T05:52:35.082Z"
   },
   {
    "duration": 708,
    "start_time": "2023-04-20T05:52:36.545Z"
   },
   {
    "duration": 727,
    "start_time": "2023-04-20T05:52:42.630Z"
   },
   {
    "duration": 185,
    "start_time": "2023-04-20T05:52:54.816Z"
   },
   {
    "duration": 298,
    "start_time": "2023-04-20T05:53:00.260Z"
   },
   {
    "duration": 101,
    "start_time": "2023-04-20T05:53:05.300Z"
   },
   {
    "duration": 837,
    "start_time": "2023-04-20T05:53:11.161Z"
   },
   {
    "duration": 107,
    "start_time": "2023-04-20T05:54:08.599Z"
   },
   {
    "duration": 819,
    "start_time": "2023-04-20T05:54:37.233Z"
   },
   {
    "duration": 54,
    "start_time": "2023-04-20T05:54:42.126Z"
   },
   {
    "duration": 14533405,
    "start_time": "2023-04-20T05:54:48.515Z"
   },
   {
    "duration": 11104,
    "start_time": "2023-04-20T09:57:01.922Z"
   },
   {
    "duration": 0,
    "start_time": "2023-04-20T09:57:13.028Z"
   },
   {
    "duration": 14,
    "start_time": "2023-04-20T09:57:17.179Z"
   },
   {
    "duration": 240,
    "start_time": "2023-04-20T09:57:23.835Z"
   },
   {
    "duration": 16,
    "start_time": "2023-04-20T09:57:27.812Z"
   },
   {
    "duration": 1205,
    "start_time": "2023-04-21T12:37:46.176Z"
   },
   {
    "duration": 1107,
    "start_time": "2023-04-21T12:37:47.383Z"
   },
   {
    "duration": 20,
    "start_time": "2023-04-21T12:37:48.492Z"
   },
   {
    "duration": 5,
    "start_time": "2023-04-21T12:37:48.514Z"
   },
   {
    "duration": 142,
    "start_time": "2023-04-21T12:37:48.521Z"
   },
   {
    "duration": 105,
    "start_time": "2023-04-21T12:37:48.665Z"
   },
   {
    "duration": 24,
    "start_time": "2023-04-21T12:37:48.772Z"
   },
   {
    "duration": 332,
    "start_time": "2023-04-21T12:37:48.798Z"
   },
   {
    "duration": 152,
    "start_time": "2023-04-21T12:37:49.131Z"
   },
   {
    "duration": 49,
    "start_time": "2023-04-21T12:37:49.285Z"
   },
   {
    "duration": 37,
    "start_time": "2023-04-21T12:37:49.336Z"
   },
   {
    "duration": 43,
    "start_time": "2023-04-21T12:37:49.375Z"
   },
   {
    "duration": 12,
    "start_time": "2023-04-21T12:37:49.420Z"
   },
   {
    "duration": 41,
    "start_time": "2023-04-21T12:37:49.434Z"
   },
   {
    "duration": 47,
    "start_time": "2023-04-21T12:37:49.477Z"
   },
   {
    "duration": 15,
    "start_time": "2023-04-21T12:37:49.526Z"
   },
   {
    "duration": 40,
    "start_time": "2023-04-21T12:37:49.543Z"
   },
   {
    "duration": 19,
    "start_time": "2023-04-21T12:37:49.585Z"
   },
   {
    "duration": 12,
    "start_time": "2023-04-21T12:37:49.606Z"
   },
   {
    "duration": 13,
    "start_time": "2023-04-21T12:37:49.621Z"
   },
   {
    "duration": 97,
    "start_time": "2023-04-21T12:37:49.636Z"
   },
   {
    "duration": 644,
    "start_time": "2023-04-21T12:37:49.735Z"
   },
   {
    "duration": 145,
    "start_time": "2023-04-21T12:37:50.381Z"
   },
   {
    "duration": 209899,
    "start_time": "2023-04-21T12:37:50.618Z"
   },
   {
    "duration": 768,
    "start_time": "2023-04-21T12:41:20.519Z"
   },
   {
    "duration": 24757,
    "start_time": "2023-04-21T12:41:21.289Z"
   },
   {
    "duration": 5506,
    "start_time": "2023-04-21T12:42:39.627Z"
   },
   {
    "duration": 878914,
    "start_time": "2023-04-21T12:42:51.507Z"
   },
   {
    "duration": 60,
    "start_time": "2023-04-21T12:57:30.423Z"
   },
   {
    "duration": 63471,
    "start_time": "2023-04-21T12:57:40.757Z"
   },
   {
    "duration": 90,
    "start_time": "2023-04-21T12:58:44.230Z"
   },
   {
    "duration": 11483,
    "start_time": "2023-04-21T12:58:51.879Z"
   },
   {
    "duration": 193685,
    "start_time": "2023-04-21T12:59:13.189Z"
   },
   {
    "duration": 12,
    "start_time": "2023-04-21T13:05:58.936Z"
   },
   {
    "duration": 18,
    "start_time": "2023-04-21T13:06:32.938Z"
   },
   {
    "duration": 37954,
    "start_time": "2023-04-21T13:06:53.916Z"
   },
   {
    "duration": 12,
    "start_time": "2023-04-21T13:08:50.983Z"
   },
   {
    "duration": 8,
    "start_time": "2023-04-21T13:09:24.564Z"
   },
   {
    "duration": 7,
    "start_time": "2023-04-21T13:10:00.690Z"
   },
   {
    "duration": 11,
    "start_time": "2023-04-21T13:10:02.632Z"
   },
   {
    "duration": 396,
    "start_time": "2023-04-21T13:10:15.865Z"
   },
   {
    "duration": 420,
    "start_time": "2023-04-21T13:10:27.600Z"
   },
   {
    "duration": 102,
    "start_time": "2023-04-21T13:12:58.754Z"
   },
   {
    "duration": 47,
    "start_time": "2023-04-21T13:14:59.949Z"
   },
   {
    "duration": 185,
    "start_time": "2023-04-21T13:15:50.233Z"
   },
   {
    "duration": 694,
    "start_time": "2023-04-21T13:15:56.838Z"
   },
   {
    "duration": 579,
    "start_time": "2023-04-21T13:16:03.761Z"
   },
   {
    "duration": 627,
    "start_time": "2023-04-21T13:16:20.113Z"
   },
   {
    "duration": 6425,
    "start_time": "2023-04-21T13:21:45.551Z"
   },
   {
    "duration": 12447,
    "start_time": "2023-04-21T13:21:59.042Z"
   },
   {
    "duration": 9225,
    "start_time": "2023-04-21T13:22:14.538Z"
   },
   {
    "duration": 31448,
    "start_time": "2023-04-21T13:22:26.778Z"
   },
   {
    "duration": 79319,
    "start_time": "2023-04-21T13:23:02.153Z"
   },
   {
    "duration": 485,
    "start_time": "2023-04-21T13:33:57.841Z"
   },
   {
    "duration": 5,
    "start_time": "2023-04-21T13:34:51.042Z"
   },
   {
    "duration": 1572,
    "start_time": "2023-04-21T13:35:32.426Z"
   },
   {
    "duration": 955,
    "start_time": "2023-04-21T13:35:34.000Z"
   },
   {
    "duration": 21,
    "start_time": "2023-04-21T13:35:34.956Z"
   },
   {
    "duration": 9,
    "start_time": "2023-04-21T13:35:34.979Z"
   },
   {
    "duration": 184,
    "start_time": "2023-04-21T13:35:34.990Z"
   },
   {
    "duration": 126,
    "start_time": "2023-04-21T13:35:35.176Z"
   },
   {
    "duration": 44,
    "start_time": "2023-04-21T13:35:35.304Z"
   },
   {
    "duration": 418,
    "start_time": "2023-04-21T13:35:35.349Z"
   },
   {
    "duration": 154,
    "start_time": "2023-04-21T13:35:35.769Z"
   },
   {
    "duration": 46,
    "start_time": "2023-04-21T13:35:35.924Z"
   },
   {
    "duration": 60,
    "start_time": "2023-04-21T13:35:35.972Z"
   },
   {
    "duration": 29,
    "start_time": "2023-04-21T13:35:36.037Z"
   },
   {
    "duration": 16,
    "start_time": "2023-04-21T13:35:36.068Z"
   },
   {
    "duration": 44,
    "start_time": "2023-04-21T13:35:36.087Z"
   },
   {
    "duration": 33,
    "start_time": "2023-04-21T13:35:36.134Z"
   },
   {
    "duration": 16,
    "start_time": "2023-04-21T13:35:36.169Z"
   },
   {
    "duration": 55,
    "start_time": "2023-04-21T13:35:36.186Z"
   },
   {
    "duration": 19,
    "start_time": "2023-04-21T13:35:36.245Z"
   },
   {
    "duration": 5,
    "start_time": "2023-04-21T13:35:36.266Z"
   },
   {
    "duration": 40,
    "start_time": "2023-04-21T13:35:36.273Z"
   },
   {
    "duration": 117,
    "start_time": "2023-04-21T13:35:36.314Z"
   },
   {
    "duration": 774,
    "start_time": "2023-04-21T13:35:36.439Z"
   },
   {
    "duration": 233,
    "start_time": "2023-04-21T13:35:37.217Z"
   },
   {
    "duration": 74,
    "start_time": "2023-04-21T13:35:37.453Z"
   },
   {
    "duration": 1223,
    "start_time": "2023-04-21T13:35:37.529Z"
   },
   {
    "duration": 4,
    "start_time": "2023-04-21T13:35:38.754Z"
   },
   {
    "duration": 1555,
    "start_time": "2023-04-21T13:38:39.859Z"
   },
   {
    "duration": 1071,
    "start_time": "2023-04-21T13:38:41.416Z"
   },
   {
    "duration": 35,
    "start_time": "2023-04-21T13:38:42.492Z"
   },
   {
    "duration": 65,
    "start_time": "2023-04-21T13:38:42.530Z"
   },
   {
    "duration": 241,
    "start_time": "2023-04-21T13:38:42.597Z"
   },
   {
    "duration": 179,
    "start_time": "2023-04-21T13:38:42.840Z"
   },
   {
    "duration": 54,
    "start_time": "2023-04-21T13:38:43.021Z"
   },
   {
    "duration": 434,
    "start_time": "2023-04-21T13:38:43.077Z"
   },
   {
    "duration": 170,
    "start_time": "2023-04-21T13:38:43.512Z"
   },
   {
    "duration": 66,
    "start_time": "2023-04-21T13:38:43.685Z"
   },
   {
    "duration": 46,
    "start_time": "2023-04-21T13:38:43.753Z"
   },
   {
    "duration": 54,
    "start_time": "2023-04-21T13:38:43.801Z"
   },
   {
    "duration": 11,
    "start_time": "2023-04-21T13:38:43.857Z"
   },
   {
    "duration": 30,
    "start_time": "2023-04-21T13:38:43.869Z"
   },
   {
    "duration": 46,
    "start_time": "2023-04-21T13:38:43.917Z"
   },
   {
    "duration": 25,
    "start_time": "2023-04-21T13:38:43.964Z"
   },
   {
    "duration": 51,
    "start_time": "2023-04-21T13:38:43.992Z"
   },
   {
    "duration": 23,
    "start_time": "2023-04-21T13:38:44.046Z"
   },
   {
    "duration": 6,
    "start_time": "2023-04-21T13:38:44.071Z"
   },
   {
    "duration": 19,
    "start_time": "2023-04-21T13:38:44.079Z"
   },
   {
    "duration": 145,
    "start_time": "2023-04-21T13:38:44.100Z"
   },
   {
    "duration": 761,
    "start_time": "2023-04-21T13:38:44.248Z"
   },
   {
    "duration": 331,
    "start_time": "2023-04-21T13:38:45.011Z"
   },
   {
    "duration": 4,
    "start_time": "2023-04-21T13:38:45.347Z"
   },
   {
    "duration": 902,
    "start_time": "2023-04-21T13:38:45.353Z"
   },
   {
    "duration": 4,
    "start_time": "2023-04-21T13:38:46.257Z"
   },
   {
    "duration": 724624,
    "start_time": "2023-04-21T13:38:46.263Z"
   },
   {
    "duration": 541,
    "start_time": "2023-04-21T13:50:50.891Z"
   },
   {
    "duration": 1427,
    "start_time": "2023-04-21T13:52:56.635Z"
   },
   {
    "duration": 922,
    "start_time": "2023-04-21T13:52:58.064Z"
   },
   {
    "duration": 21,
    "start_time": "2023-04-21T13:52:58.988Z"
   },
   {
    "duration": 37,
    "start_time": "2023-04-21T13:52:59.018Z"
   },
   {
    "duration": 172,
    "start_time": "2023-04-21T13:52:59.057Z"
   },
   {
    "duration": 123,
    "start_time": "2023-04-21T13:52:59.237Z"
   },
   {
    "duration": 25,
    "start_time": "2023-04-21T13:52:59.361Z"
   },
   {
    "duration": 393,
    "start_time": "2023-04-21T13:52:59.388Z"
   },
   {
    "duration": 164,
    "start_time": "2023-04-21T13:52:59.783Z"
   },
   {
    "duration": 43,
    "start_time": "2023-04-21T13:52:59.948Z"
   },
   {
    "duration": 57,
    "start_time": "2023-04-21T13:52:59.992Z"
   },
   {
    "duration": 29,
    "start_time": "2023-04-21T13:53:00.051Z"
   },
   {
    "duration": 10,
    "start_time": "2023-04-21T13:53:00.082Z"
   },
   {
    "duration": 56,
    "start_time": "2023-04-21T13:53:00.095Z"
   },
   {
    "duration": 44,
    "start_time": "2023-04-21T13:53:00.153Z"
   },
   {
    "duration": 33,
    "start_time": "2023-04-21T13:53:00.199Z"
   },
   {
    "duration": 44,
    "start_time": "2023-04-21T13:53:00.243Z"
   },
   {
    "duration": 78,
    "start_time": "2023-04-21T13:53:00.289Z"
   },
   {
    "duration": 21,
    "start_time": "2023-04-21T13:53:00.369Z"
   },
   {
    "duration": 43,
    "start_time": "2023-04-21T13:53:00.391Z"
   },
   {
    "duration": 139,
    "start_time": "2023-04-21T13:53:00.435Z"
   },
   {
    "duration": 815,
    "start_time": "2023-04-21T13:53:00.575Z"
   },
   {
    "duration": 146,
    "start_time": "2023-04-21T13:53:01.392Z"
   },
   {
    "duration": 75,
    "start_time": "2023-04-21T13:53:01.544Z"
   },
   {
    "duration": 921,
    "start_time": "2023-04-21T13:53:01.622Z"
   },
   {
    "duration": 4,
    "start_time": "2023-04-21T13:53:02.545Z"
   },
   {
    "duration": 115074,
    "start_time": "2023-04-21T13:53:02.552Z"
   },
   {
    "duration": 30,
    "start_time": "2023-04-21T13:54:57.628Z"
   },
   {
    "duration": 0,
    "start_time": "2023-04-21T13:54:57.660Z"
   },
   {
    "duration": 19416,
    "start_time": "2023-04-21T13:55:09.614Z"
   },
   {
    "duration": 0,
    "start_time": "2023-04-21T13:55:29.038Z"
   },
   {
    "duration": 60,
    "start_time": "2023-04-21T13:55:46.251Z"
   },
   {
    "duration": 537606,
    "start_time": "2023-04-21T13:55:48.248Z"
   },
   {
    "duration": 473,
    "start_time": "2023-04-21T14:04:45.857Z"
   },
   {
    "duration": 493,
    "start_time": "2023-04-21T14:05:38.944Z"
   },
   {
    "duration": 477,
    "start_time": "2023-04-21T14:06:48.578Z"
   },
   {
    "duration": 13,
    "start_time": "2023-04-21T14:10:54.076Z"
   },
   {
    "duration": 15,
    "start_time": "2023-04-21T14:11:00.570Z"
   },
   {
    "duration": 13,
    "start_time": "2023-04-21T14:14:16.891Z"
   },
   {
    "duration": 470,
    "start_time": "2023-04-21T14:14:17.173Z"
   },
   {
    "duration": 938,
    "start_time": "2023-04-21T14:15:25.580Z"
   },
   {
    "duration": 23,
    "start_time": "2023-04-21T14:15:31.705Z"
   },
   {
    "duration": 5,
    "start_time": "2023-04-21T14:16:43.955Z"
   },
   {
    "duration": 1498,
    "start_time": "2023-04-23T13:32:29.827Z"
   },
   {
    "duration": 2708,
    "start_time": "2023-04-23T13:32:31.327Z"
   },
   {
    "duration": 18,
    "start_time": "2023-04-23T13:32:34.037Z"
   },
   {
    "duration": 4,
    "start_time": "2023-04-23T13:32:34.057Z"
   },
   {
    "duration": 101,
    "start_time": "2023-04-23T13:32:34.063Z"
   },
   {
    "duration": 72,
    "start_time": "2023-04-23T13:32:34.817Z"
   },
   {
    "duration": 19,
    "start_time": "2023-04-23T13:33:16.244Z"
   },
   {
    "duration": 242,
    "start_time": "2023-04-23T13:33:28.795Z"
   },
   {
    "duration": 126,
    "start_time": "2023-04-23T13:33:52.493Z"
   },
   {
    "duration": 36,
    "start_time": "2023-04-23T13:34:33.532Z"
   },
   {
    "duration": 33,
    "start_time": "2023-04-23T13:34:40.944Z"
   },
   {
    "duration": 4,
    "start_time": "2023-04-23T13:34:45.846Z"
   },
   {
    "duration": 24,
    "start_time": "2023-04-23T13:34:54.725Z"
   },
   {
    "duration": 10,
    "start_time": "2023-04-23T13:34:56.932Z"
   },
   {
    "duration": 26,
    "start_time": "2023-04-23T13:35:10.748Z"
   },
   {
    "duration": 27,
    "start_time": "2023-04-23T13:35:27.412Z"
   },
   {
    "duration": 13,
    "start_time": "2023-04-23T13:35:35.822Z"
   },
   {
    "duration": 20,
    "start_time": "2023-04-23T13:35:51.338Z"
   },
   {
    "duration": 16,
    "start_time": "2023-04-23T13:36:03.990Z"
   },
   {
    "duration": 4,
    "start_time": "2023-04-23T13:36:06.660Z"
   },
   {
    "duration": 12,
    "start_time": "2023-04-23T13:36:22.126Z"
   },
   {
    "duration": 56,
    "start_time": "2023-04-23T13:36:22.707Z"
   },
   {
    "duration": 4,
    "start_time": "2023-04-23T13:36:29.899Z"
   },
   {
    "duration": 500,
    "start_time": "2023-04-23T13:37:27.647Z"
   },
   {
    "duration": 5,
    "start_time": "2023-04-23T13:37:33.294Z"
   },
   {
    "duration": 97,
    "start_time": "2023-04-23T13:37:58.005Z"
   },
   {
    "duration": 1434,
    "start_time": "2023-04-24T10:06:53.746Z"
   },
   {
    "duration": 2967,
    "start_time": "2023-04-24T10:06:55.183Z"
   },
   {
    "duration": 18,
    "start_time": "2023-04-24T10:06:58.151Z"
   },
   {
    "duration": 5,
    "start_time": "2023-04-24T10:06:58.170Z"
   },
   {
    "duration": 113,
    "start_time": "2023-04-24T10:06:58.176Z"
   },
   {
    "duration": 84,
    "start_time": "2023-04-24T10:06:58.290Z"
   },
   {
    "duration": 25,
    "start_time": "2023-04-24T10:06:58.375Z"
   },
   {
    "duration": 255,
    "start_time": "2023-04-24T10:06:58.402Z"
   },
   {
    "duration": 128,
    "start_time": "2023-04-24T10:06:58.659Z"
   },
   {
    "duration": 39,
    "start_time": "2023-04-24T10:06:58.789Z"
   },
   {
    "duration": 43,
    "start_time": "2023-04-24T10:06:58.830Z"
   },
   {
    "duration": 25,
    "start_time": "2023-04-24T10:06:58.875Z"
   },
   {
    "duration": 10,
    "start_time": "2023-04-24T10:06:58.902Z"
   },
   {
    "duration": 44,
    "start_time": "2023-04-24T10:06:58.914Z"
   },
   {
    "duration": 27,
    "start_time": "2023-04-24T10:06:58.959Z"
   },
   {
    "duration": 14,
    "start_time": "2023-04-24T10:06:58.988Z"
   },
   {
    "duration": 20,
    "start_time": "2023-04-24T10:06:59.003Z"
   },
   {
    "duration": 43,
    "start_time": "2023-04-24T10:06:59.025Z"
   },
   {
    "duration": 4,
    "start_time": "2023-04-24T10:06:59.070Z"
   },
   {
    "duration": 16,
    "start_time": "2023-04-24T10:06:59.076Z"
   },
   {
    "duration": 68,
    "start_time": "2023-04-24T10:06:59.094Z"
   },
   {
    "duration": 519,
    "start_time": "2023-04-24T10:06:59.164Z"
   },
   {
    "duration": 171,
    "start_time": "2023-04-24T10:06:59.685Z"
   },
   {
    "duration": 4,
    "start_time": "2023-04-24T10:06:59.858Z"
   },
   {
    "duration": 801,
    "start_time": "2023-04-24T10:06:59.863Z"
   },
   {
    "duration": 11,
    "start_time": "2023-04-24T10:07:00.666Z"
   },
   {
    "duration": 30,
    "start_time": "2023-04-24T10:07:00.679Z"
   },
   {
    "duration": 6253,
    "start_time": "2023-04-24T10:07:00.710Z"
   },
   {
    "duration": 409,
    "start_time": "2023-04-24T10:07:06.964Z"
   },
   {
    "duration": 12,
    "start_time": "2023-04-24T10:07:07.455Z"
   },
   {
    "duration": 390,
    "start_time": "2023-04-24T10:07:07.468Z"
   },
   {
    "duration": 13,
    "start_time": "2023-04-24T10:15:51.582Z"
   },
   {
    "duration": 119,
    "start_time": "2023-04-24T10:15:52.054Z"
   },
   {
    "duration": 9,
    "start_time": "2023-04-24T10:15:57.767Z"
   },
   {
    "duration": 4,
    "start_time": "2023-04-24T10:16:50.757Z"
   },
   {
    "duration": 14,
    "start_time": "2023-04-24T10:16:57.303Z"
   },
   {
    "duration": 4,
    "start_time": "2023-04-24T10:17:20.922Z"
   },
   {
    "duration": 4,
    "start_time": "2023-04-24T10:17:25.774Z"
   },
   {
    "duration": 8,
    "start_time": "2023-04-24T10:17:29.214Z"
   },
   {
    "duration": 18,
    "start_time": "2023-04-24T10:17:47.390Z"
   },
   {
    "duration": 91,
    "start_time": "2023-04-24T10:17:49.872Z"
   },
   {
    "duration": 3,
    "start_time": "2023-04-24T10:22:34.817Z"
   },
   {
    "duration": 81,
    "start_time": "2023-04-24T10:22:36.679Z"
   },
   {
    "duration": 3,
    "start_time": "2023-04-24T10:22:36.845Z"
   },
   {
    "duration": 3,
    "start_time": "2023-04-24T10:23:11.486Z"
   },
   {
    "duration": 157,
    "start_time": "2023-04-24T10:23:33.088Z"
   },
   {
    "duration": 16,
    "start_time": "2023-04-24T10:23:50.765Z"
   },
   {
    "duration": 3,
    "start_time": "2023-04-24T10:24:41.929Z"
   },
   {
    "duration": 134,
    "start_time": "2023-04-24T10:24:44.025Z"
   },
   {
    "duration": 120,
    "start_time": "2023-04-24T10:24:57.963Z"
   },
   {
    "duration": 1241,
    "start_time": "2023-04-24T10:25:10.397Z"
   },
   {
    "duration": 1212,
    "start_time": "2023-04-24T10:25:38.711Z"
   },
   {
    "duration": 20,
    "start_time": "2023-04-24T10:25:54.578Z"
   },
   {
    "duration": 4,
    "start_time": "2023-04-24T10:26:03.659Z"
   },
   {
    "duration": 635,
    "start_time": "2023-04-24T10:26:05.123Z"
   },
   {
    "duration": 3,
    "start_time": "2023-04-24T10:27:50.263Z"
   },
   {
    "duration": 666,
    "start_time": "2023-04-24T10:28:08.490Z"
   },
   {
    "duration": 160,
    "start_time": "2023-04-24T10:29:15.472Z"
   },
   {
    "duration": 1083,
    "start_time": "2023-04-24T10:29:22.820Z"
   },
   {
    "duration": 99,
    "start_time": "2023-04-24T10:29:40.466Z"
   },
   {
    "duration": 56,
    "start_time": "2023-04-24T10:29:45.586Z"
   },
   {
    "duration": 82,
    "start_time": "2023-04-24T10:31:05.958Z"
   },
   {
    "duration": 6909,
    "start_time": "2023-04-24T10:31:08.363Z"
   },
   {
    "duration": 412,
    "start_time": "2023-04-24T10:31:22.162Z"
   },
   {
    "duration": 8,
    "start_time": "2023-04-24T10:47:27.556Z"
   },
   {
    "duration": 1328,
    "start_time": "2023-04-24T10:47:33.078Z"
   },
   {
    "duration": 781,
    "start_time": "2023-04-24T10:47:34.408Z"
   },
   {
    "duration": 27,
    "start_time": "2023-04-24T10:47:35.190Z"
   },
   {
    "duration": 6,
    "start_time": "2023-04-24T10:47:35.220Z"
   },
   {
    "duration": 143,
    "start_time": "2023-04-24T10:47:35.229Z"
   },
   {
    "duration": 97,
    "start_time": "2023-04-24T10:47:35.374Z"
   },
   {
    "duration": 26,
    "start_time": "2023-04-24T10:47:35.473Z"
   },
   {
    "duration": 270,
    "start_time": "2023-04-24T10:47:35.501Z"
   },
   {
    "duration": 138,
    "start_time": "2023-04-24T10:47:35.773Z"
   },
   {
    "duration": 52,
    "start_time": "2023-04-24T10:47:35.912Z"
   },
   {
    "duration": 36,
    "start_time": "2023-04-24T10:47:35.966Z"
   },
   {
    "duration": 27,
    "start_time": "2023-04-24T10:47:36.003Z"
   },
   {
    "duration": 10,
    "start_time": "2023-04-24T10:47:36.055Z"
   },
   {
    "duration": 30,
    "start_time": "2023-04-24T10:47:36.069Z"
   },
   {
    "duration": 36,
    "start_time": "2023-04-24T10:47:36.101Z"
   },
   {
    "duration": 15,
    "start_time": "2023-04-24T10:47:36.156Z"
   },
   {
    "duration": 22,
    "start_time": "2023-04-24T10:47:36.173Z"
   },
   {
    "duration": 9,
    "start_time": "2023-04-24T10:47:36.197Z"
   },
   {
    "duration": 49,
    "start_time": "2023-04-24T10:47:36.207Z"
   },
   {
    "duration": 4,
    "start_time": "2023-04-24T10:47:36.258Z"
   },
   {
    "duration": 14,
    "start_time": "2023-04-24T10:47:36.264Z"
   },
   {
    "duration": 79,
    "start_time": "2023-04-24T10:47:36.280Z"
   },
   {
    "duration": 106,
    "start_time": "2023-04-24T10:47:36.361Z"
   },
   {
    "duration": 3,
    "start_time": "2023-04-24T10:47:36.469Z"
   },
   {
    "duration": 606,
    "start_time": "2023-04-24T10:47:36.473Z"
   },
   {
    "duration": 81,
    "start_time": "2023-04-24T10:47:37.081Z"
   },
   {
    "duration": 1150,
    "start_time": "2023-04-24T10:47:37.165Z"
   },
   {
    "duration": 69,
    "start_time": "2023-04-24T10:47:38.316Z"
   },
   {
    "duration": 4,
    "start_time": "2023-04-24T10:47:38.386Z"
   },
   {
    "duration": 16480,
    "start_time": "2023-04-24T10:47:38.391Z"
   },
   {
    "duration": 583,
    "start_time": "2023-04-24T10:47:54.873Z"
   },
   {
    "duration": 190,
    "start_time": "2023-04-24T10:47:55.458Z"
   },
   {
    "duration": 94,
    "start_time": "2023-04-24T10:47:55.650Z"
   },
   {
    "duration": 8,
    "start_time": "2023-04-24T10:48:01.047Z"
   },
   {
    "duration": 4,
    "start_time": "2023-04-24T10:48:09.544Z"
   },
   {
    "duration": 848,
    "start_time": "2023-04-24T10:48:09.550Z"
   },
   {
    "duration": 17,
    "start_time": "2023-04-24T10:48:10.401Z"
   },
   {
    "duration": 10,
    "start_time": "2023-04-24T10:48:10.420Z"
   },
   {
    "duration": 127,
    "start_time": "2023-04-24T10:48:10.433Z"
   },
   {
    "duration": 100,
    "start_time": "2023-04-24T10:48:10.563Z"
   },
   {
    "duration": 22,
    "start_time": "2023-04-24T10:48:10.666Z"
   },
   {
    "duration": 252,
    "start_time": "2023-04-24T10:48:10.689Z"
   },
   {
    "duration": 130,
    "start_time": "2023-04-24T10:48:10.943Z"
   },
   {
    "duration": 38,
    "start_time": "2023-04-24T10:48:11.075Z"
   },
   {
    "duration": 53,
    "start_time": "2023-04-24T10:48:11.116Z"
   },
   {
    "duration": 27,
    "start_time": "2023-04-24T10:48:11.171Z"
   },
   {
    "duration": 11,
    "start_time": "2023-04-24T10:48:11.200Z"
   },
   {
    "duration": 47,
    "start_time": "2023-04-24T10:48:11.212Z"
   },
   {
    "duration": 29,
    "start_time": "2023-04-24T10:48:11.261Z"
   },
   {
    "duration": 15,
    "start_time": "2023-04-24T10:48:11.292Z"
   },
   {
    "duration": 9,
    "start_time": "2023-04-24T10:48:11.309Z"
   },
   {
    "duration": 28,
    "start_time": "2023-04-24T10:48:18.969Z"
   },
   {
    "duration": 12,
    "start_time": "2023-04-24T10:51:32.334Z"
   },
   {
    "duration": 93,
    "start_time": "2023-04-24T10:51:38.023Z"
   },
   {
    "duration": 33,
    "start_time": "2023-04-24T10:51:52.662Z"
   },
   {
    "duration": 24,
    "start_time": "2023-04-24T10:57:11.633Z"
   },
   {
    "duration": 23,
    "start_time": "2023-04-24T10:57:15.040Z"
   },
   {
    "duration": 31,
    "start_time": "2023-04-24T11:14:06.454Z"
   },
   {
    "duration": 30,
    "start_time": "2023-04-24T11:14:12.397Z"
   },
   {
    "duration": 3,
    "start_time": "2023-04-24T11:14:34.643Z"
   },
   {
    "duration": 39,
    "start_time": "2023-04-24T11:15:14.727Z"
   },
   {
    "duration": 870,
    "start_time": "2023-04-24T11:15:45.262Z"
   },
   {
    "duration": 25,
    "start_time": "2023-04-24T11:16:09.860Z"
   },
   {
    "duration": 304,
    "start_time": "2023-04-24T11:16:22.267Z"
   },
   {
    "duration": 23,
    "start_time": "2023-04-24T11:16:22.573Z"
   },
   {
    "duration": 4,
    "start_time": "2023-04-24T11:16:35.627Z"
   },
   {
    "duration": 740,
    "start_time": "2023-04-24T11:16:35.633Z"
   },
   {
    "duration": 19,
    "start_time": "2023-04-24T11:16:36.375Z"
   },
   {
    "duration": 20,
    "start_time": "2023-04-24T11:16:36.396Z"
   },
   {
    "duration": 119,
    "start_time": "2023-04-24T11:16:36.419Z"
   },
   {
    "duration": 91,
    "start_time": "2023-04-24T11:16:36.540Z"
   },
   {
    "duration": 34,
    "start_time": "2023-04-24T11:16:36.633Z"
   },
   {
    "duration": 256,
    "start_time": "2023-04-24T11:16:36.670Z"
   },
   {
    "duration": 101,
    "start_time": "2023-04-24T11:16:36.928Z"
   },
   {
    "duration": 36,
    "start_time": "2023-04-24T11:16:37.031Z"
   },
   {
    "duration": 31,
    "start_time": "2023-04-24T11:16:37.069Z"
   },
   {
    "duration": 26,
    "start_time": "2023-04-24T11:16:37.102Z"
   },
   {
    "duration": 29,
    "start_time": "2023-04-24T11:16:37.130Z"
   },
   {
    "duration": 27,
    "start_time": "2023-04-24T11:16:37.161Z"
   },
   {
    "duration": 31,
    "start_time": "2023-04-24T11:16:37.191Z"
   },
   {
    "duration": 38,
    "start_time": "2023-04-24T11:16:37.224Z"
   },
   {
    "duration": 12244,
    "start_time": "2023-04-24T11:16:37.263Z"
   },
   {
    "duration": 0,
    "start_time": "2023-04-24T11:16:49.510Z"
   },
   {
    "duration": 0,
    "start_time": "2023-04-24T11:16:49.511Z"
   },
   {
    "duration": 6,
    "start_time": "2023-04-24T11:16:54.355Z"
   },
   {
    "duration": 813,
    "start_time": "2023-04-24T11:16:54.363Z"
   },
   {
    "duration": 12,
    "start_time": "2023-04-24T11:16:55.178Z"
   },
   {
    "duration": 7,
    "start_time": "2023-04-24T11:16:55.192Z"
   },
   {
    "duration": 118,
    "start_time": "2023-04-24T11:16:55.202Z"
   },
   {
    "duration": 124,
    "start_time": "2023-04-24T11:16:55.323Z"
   },
   {
    "duration": 28,
    "start_time": "2023-04-24T11:16:55.449Z"
   },
   {
    "duration": 243,
    "start_time": "2023-04-24T11:16:55.479Z"
   },
   {
    "duration": 123,
    "start_time": "2023-04-24T11:16:55.724Z"
   },
   {
    "duration": 47,
    "start_time": "2023-04-24T11:16:55.849Z"
   },
   {
    "duration": 28,
    "start_time": "2023-04-24T11:16:55.899Z"
   },
   {
    "duration": 53,
    "start_time": "2023-04-24T11:16:55.928Z"
   },
   {
    "duration": 12,
    "start_time": "2023-04-24T11:16:55.983Z"
   },
   {
    "duration": 25,
    "start_time": "2023-04-24T11:16:55.997Z"
   },
   {
    "duration": 54,
    "start_time": "2023-04-24T11:16:56.024Z"
   },
   {
    "duration": 18,
    "start_time": "2023-04-24T11:16:56.080Z"
   },
   {
    "duration": 22,
    "start_time": "2023-04-24T11:16:56.100Z"
   },
   {
    "duration": 38633,
    "start_time": "2023-04-24T11:16:56.124Z"
   },
   {
    "duration": 20,
    "start_time": "2023-04-24T11:17:36.794Z"
   },
   {
    "duration": 80,
    "start_time": "2023-04-24T11:19:09.560Z"
   },
   {
    "duration": 24,
    "start_time": "2023-04-24T11:19:13.097Z"
   },
   {
    "duration": 20,
    "start_time": "2023-04-24T11:19:15.231Z"
   },
   {
    "duration": 10,
    "start_time": "2023-04-24T11:19:31.747Z"
   },
   {
    "duration": 138,
    "start_time": "2023-04-24T11:19:34.092Z"
   },
   {
    "duration": 131,
    "start_time": "2023-04-24T11:19:36.431Z"
   },
   {
    "duration": 167,
    "start_time": "2023-04-24T11:19:56.762Z"
   },
   {
    "duration": 156,
    "start_time": "2023-04-24T11:20:00.865Z"
   },
   {
    "duration": 16,
    "start_time": "2023-04-24T11:20:06.553Z"
   },
   {
    "duration": 71,
    "start_time": "2023-04-24T11:20:34.974Z"
   },
   {
    "duration": 1315,
    "start_time": "2023-04-24T11:21:43.049Z"
   },
   {
    "duration": 770,
    "start_time": "2023-04-24T11:21:44.366Z"
   },
   {
    "duration": 22,
    "start_time": "2023-04-24T11:21:45.138Z"
   },
   {
    "duration": 5,
    "start_time": "2023-04-24T11:21:45.162Z"
   },
   {
    "duration": 114,
    "start_time": "2023-04-24T11:21:45.168Z"
   },
   {
    "duration": 87,
    "start_time": "2023-04-24T11:21:45.284Z"
   },
   {
    "duration": 24,
    "start_time": "2023-04-24T11:21:45.372Z"
   },
   {
    "duration": 254,
    "start_time": "2023-04-24T11:21:45.397Z"
   },
   {
    "duration": 143,
    "start_time": "2023-04-24T11:21:45.653Z"
   },
   {
    "duration": 41,
    "start_time": "2023-04-24T11:21:45.798Z"
   },
   {
    "duration": 38,
    "start_time": "2023-04-24T11:21:45.840Z"
   },
   {
    "duration": 27,
    "start_time": "2023-04-24T11:21:45.880Z"
   },
   {
    "duration": 10,
    "start_time": "2023-04-24T11:21:45.908Z"
   },
   {
    "duration": 49,
    "start_time": "2023-04-24T11:21:45.920Z"
   },
   {
    "duration": 28,
    "start_time": "2023-04-24T11:21:45.971Z"
   },
   {
    "duration": 14,
    "start_time": "2023-04-24T11:21:46.000Z"
   },
   {
    "duration": 38931,
    "start_time": "2023-04-24T11:21:46.016Z"
   },
   {
    "duration": 27,
    "start_time": "2023-04-24T11:22:24.950Z"
   },
   {
    "duration": 20,
    "start_time": "2023-04-24T11:22:24.979Z"
   },
   {
    "duration": 5,
    "start_time": "2023-04-24T11:22:25.001Z"
   },
   {
    "duration": 168,
    "start_time": "2023-04-24T11:22:25.008Z"
   },
   {
    "duration": 13,
    "start_time": "2023-04-24T11:22:25.178Z"
   },
   {
    "duration": 70,
    "start_time": "2023-04-24T11:22:25.192Z"
   },
   {
    "duration": 103,
    "start_time": "2023-04-24T11:22:25.263Z"
   },
   {
    "duration": 4,
    "start_time": "2023-04-24T11:22:25.367Z"
   },
   {
    "duration": 729,
    "start_time": "2023-04-24T11:22:25.372Z"
   },
   {
    "duration": 3,
    "start_time": "2023-04-24T11:22:26.103Z"
   },
   {
    "duration": 1064,
    "start_time": "2023-04-24T11:22:26.109Z"
   },
   {
    "duration": 120,
    "start_time": "2023-04-24T11:22:27.174Z"
   },
   {
    "duration": 3,
    "start_time": "2023-04-24T11:22:27.296Z"
   },
   {
    "duration": 10078,
    "start_time": "2023-04-24T11:22:27.301Z"
   },
   {
    "duration": 190,
    "start_time": "2023-04-24T11:22:37.381Z"
   },
   {
    "duration": 91,
    "start_time": "2023-04-24T11:22:37.573Z"
   },
   {
    "duration": 84,
    "start_time": "2023-04-24T11:22:37.665Z"
   },
   {
    "duration": 627,
    "start_time": "2023-04-24T11:22:51.746Z"
   },
   {
    "duration": 986,
    "start_time": "2023-04-24T11:22:58.700Z"
   },
   {
    "duration": 122,
    "start_time": "2023-04-24T11:23:01.033Z"
   },
   {
    "duration": 1248,
    "start_time": "2023-04-24T11:24:48.286Z"
   },
   {
    "duration": 808,
    "start_time": "2023-04-24T11:24:49.536Z"
   },
   {
    "duration": 23,
    "start_time": "2023-04-24T11:24:50.346Z"
   },
   {
    "duration": 7,
    "start_time": "2023-04-24T11:24:50.372Z"
   },
   {
    "duration": 110,
    "start_time": "2023-04-24T11:24:50.380Z"
   },
   {
    "duration": 86,
    "start_time": "2023-04-24T11:24:50.491Z"
   },
   {
    "duration": 24,
    "start_time": "2023-04-24T11:24:50.579Z"
   },
   {
    "duration": 261,
    "start_time": "2023-04-24T11:24:50.605Z"
   },
   {
    "duration": 130,
    "start_time": "2023-04-24T11:24:50.868Z"
   },
   {
    "duration": 40,
    "start_time": "2023-04-24T11:24:51.001Z"
   },
   {
    "duration": 37,
    "start_time": "2023-04-24T11:24:51.057Z"
   },
   {
    "duration": 28,
    "start_time": "2023-04-24T11:24:51.095Z"
   },
   {
    "duration": 11,
    "start_time": "2023-04-24T11:24:51.125Z"
   },
   {
    "duration": 32,
    "start_time": "2023-04-24T11:24:51.156Z"
   },
   {
    "duration": 31,
    "start_time": "2023-04-24T11:24:51.189Z"
   },
   {
    "duration": 35,
    "start_time": "2023-04-24T11:24:51.222Z"
   },
   {
    "duration": 36595,
    "start_time": "2023-04-24T11:24:51.259Z"
   },
   {
    "duration": 31,
    "start_time": "2023-04-24T11:25:27.856Z"
   },
   {
    "duration": 22,
    "start_time": "2023-04-24T11:25:27.889Z"
   },
   {
    "duration": 7,
    "start_time": "2023-04-24T11:25:27.914Z"
   },
   {
    "duration": 200,
    "start_time": "2023-04-24T11:25:27.923Z"
   },
   {
    "duration": 15,
    "start_time": "2023-04-24T11:25:28.125Z"
   },
   {
    "duration": 74,
    "start_time": "2023-04-24T11:25:28.141Z"
   },
   {
    "duration": 98,
    "start_time": "2023-04-24T11:25:28.217Z"
   },
   {
    "duration": 3,
    "start_time": "2023-04-24T11:25:28.317Z"
   },
   {
    "duration": 668,
    "start_time": "2023-04-24T11:25:28.321Z"
   },
   {
    "duration": 4,
    "start_time": "2023-04-24T11:25:28.991Z"
   },
   {
    "duration": 1076,
    "start_time": "2023-04-24T11:25:28.997Z"
   },
   {
    "duration": 132,
    "start_time": "2023-04-24T11:25:30.075Z"
   },
   {
    "duration": 4,
    "start_time": "2023-04-24T11:25:30.209Z"
   },
   {
    "duration": 11341,
    "start_time": "2023-04-24T11:25:30.215Z"
   },
   {
    "duration": 119,
    "start_time": "2023-04-24T11:25:41.557Z"
   },
   {
    "duration": 92,
    "start_time": "2023-04-24T11:25:41.678Z"
   },
   {
    "duration": 93,
    "start_time": "2023-04-24T11:25:41.771Z"
   },
   {
    "duration": 1378,
    "start_time": "2023-04-24T17:28:10.953Z"
   },
   {
    "duration": 1147,
    "start_time": "2023-04-24T17:28:12.334Z"
   },
   {
    "duration": 21,
    "start_time": "2023-04-24T17:28:13.482Z"
   },
   {
    "duration": 5,
    "start_time": "2023-04-24T17:28:13.505Z"
   },
   {
    "duration": 140,
    "start_time": "2023-04-24T17:28:13.512Z"
   },
   {
    "duration": 97,
    "start_time": "2023-04-24T17:28:13.654Z"
   },
   {
    "duration": 38,
    "start_time": "2023-04-24T17:28:13.752Z"
   },
   {
    "duration": 316,
    "start_time": "2023-04-24T17:28:13.792Z"
   },
   {
    "duration": 147,
    "start_time": "2023-04-24T17:28:14.110Z"
   },
   {
    "duration": 56,
    "start_time": "2023-04-24T17:28:14.260Z"
   },
   {
    "duration": 39,
    "start_time": "2023-04-24T17:28:14.317Z"
   },
   {
    "duration": 44,
    "start_time": "2023-04-24T17:28:14.358Z"
   },
   {
    "duration": 11,
    "start_time": "2023-04-24T17:28:14.404Z"
   },
   {
    "duration": 30,
    "start_time": "2023-04-24T17:28:14.417Z"
   },
   {
    "duration": 53,
    "start_time": "2023-04-24T17:28:14.448Z"
   },
   {
    "duration": 16,
    "start_time": "2023-04-24T17:28:14.503Z"
   },
   {
    "duration": 38370,
    "start_time": "2023-04-24T17:28:14.521Z"
   },
   {
    "duration": 29,
    "start_time": "2023-04-24T17:28:52.893Z"
   },
   {
    "duration": 21,
    "start_time": "2023-04-24T17:28:52.923Z"
   },
   {
    "duration": 4,
    "start_time": "2023-04-24T17:28:52.946Z"
   },
   {
    "duration": 189,
    "start_time": "2023-04-24T17:28:52.952Z"
   },
   {
    "duration": 14,
    "start_time": "2023-04-24T17:28:53.143Z"
   },
   {
    "duration": 88,
    "start_time": "2023-04-24T17:28:53.159Z"
   },
   {
    "duration": 103,
    "start_time": "2023-04-24T17:28:53.249Z"
   },
   {
    "duration": 3,
    "start_time": "2023-04-24T17:28:53.354Z"
   },
   {
    "duration": 770,
    "start_time": "2023-04-24T17:28:53.358Z"
   },
   {
    "duration": 4,
    "start_time": "2023-04-24T17:28:54.130Z"
   },
   {
    "duration": 1225,
    "start_time": "2023-04-24T17:28:54.137Z"
   },
   {
    "duration": 112,
    "start_time": "2023-04-24T17:28:55.364Z"
   },
   {
    "duration": 4,
    "start_time": "2023-04-24T17:28:55.477Z"
   },
   {
    "duration": 8222,
    "start_time": "2023-04-24T17:28:55.482Z"
   },
   {
    "duration": 174,
    "start_time": "2023-04-24T17:29:03.705Z"
   },
   {
    "duration": 174,
    "start_time": "2023-04-24T17:29:03.880Z"
   },
   {
    "duration": 59,
    "start_time": "2023-04-24T17:29:04.056Z"
   },
   {
    "duration": 18,
    "start_time": "2023-04-24T17:29:11.213Z"
   },
   {
    "duration": 18,
    "start_time": "2023-04-24T17:29:15.635Z"
   },
   {
    "duration": 5,
    "start_time": "2023-04-24T17:30:21.247Z"
   },
   {
    "duration": 19,
    "start_time": "2023-04-24T17:30:25.807Z"
   },
   {
    "duration": 17,
    "start_time": "2023-04-24T17:30:43.834Z"
   },
   {
    "duration": 21,
    "start_time": "2023-04-24T17:31:27.136Z"
   },
   {
    "duration": 27,
    "start_time": "2023-04-24T17:31:33.291Z"
   },
   {
    "duration": 35,
    "start_time": "2023-04-24T17:32:49.178Z"
   },
   {
    "duration": 27,
    "start_time": "2023-04-24T17:32:56.276Z"
   },
   {
    "duration": 22,
    "start_time": "2023-04-24T17:33:04.024Z"
   },
   {
    "duration": 25,
    "start_time": "2023-04-24T17:33:08.788Z"
   },
   {
    "duration": 3,
    "start_time": "2023-04-24T17:34:27.816Z"
   },
   {
    "duration": 637,
    "start_time": "2023-04-24T17:34:28.960Z"
   },
   {
    "duration": 1431,
    "start_time": "2023-04-24T17:34:41.059Z"
   },
   {
    "duration": 886,
    "start_time": "2023-04-24T17:34:42.492Z"
   },
   {
    "duration": 27,
    "start_time": "2023-04-24T17:34:43.380Z"
   },
   {
    "duration": 6,
    "start_time": "2023-04-24T17:34:43.409Z"
   },
   {
    "duration": 148,
    "start_time": "2023-04-24T17:34:43.416Z"
   },
   {
    "duration": 99,
    "start_time": "2023-04-24T17:34:43.566Z"
   },
   {
    "duration": 33,
    "start_time": "2023-04-24T17:34:43.667Z"
   },
   {
    "duration": 331,
    "start_time": "2023-04-24T17:34:43.701Z"
   },
   {
    "duration": 155,
    "start_time": "2023-04-24T17:34:44.033Z"
   },
   {
    "duration": 42,
    "start_time": "2023-04-24T17:34:44.190Z"
   },
   {
    "duration": 39,
    "start_time": "2023-04-24T17:34:44.233Z"
   },
   {
    "duration": 30,
    "start_time": "2023-04-24T17:34:44.287Z"
   },
   {
    "duration": 10,
    "start_time": "2023-04-24T17:34:44.319Z"
   },
   {
    "duration": 29,
    "start_time": "2023-04-24T17:34:44.331Z"
   },
   {
    "duration": 54,
    "start_time": "2023-04-24T17:34:44.362Z"
   },
   {
    "duration": 16,
    "start_time": "2023-04-24T17:34:44.418Z"
   },
   {
    "duration": 29,
    "start_time": "2023-04-24T17:34:44.436Z"
   },
   {
    "duration": 36428,
    "start_time": "2023-04-24T17:34:44.487Z"
   },
   {
    "duration": 29,
    "start_time": "2023-04-24T17:35:20.917Z"
   },
   {
    "duration": 21,
    "start_time": "2023-04-24T17:35:20.948Z"
   },
   {
    "duration": 19,
    "start_time": "2023-04-24T17:35:20.971Z"
   },
   {
    "duration": 190,
    "start_time": "2023-04-24T17:35:20.991Z"
   },
   {
    "duration": 15,
    "start_time": "2023-04-24T17:35:21.183Z"
   },
   {
    "duration": 106,
    "start_time": "2023-04-24T17:35:21.200Z"
   },
   {
    "duration": 113,
    "start_time": "2023-04-24T17:35:21.307Z"
   },
   {
    "duration": 4,
    "start_time": "2023-04-24T17:35:21.421Z"
   },
   {
    "duration": 762,
    "start_time": "2023-04-24T17:35:21.426Z"
   },
   {
    "duration": 95,
    "start_time": "2023-04-24T17:35:22.193Z"
   },
   {
    "duration": 1196,
    "start_time": "2023-04-24T17:35:22.290Z"
   },
   {
    "duration": 76,
    "start_time": "2023-04-24T17:35:23.488Z"
   },
   {
    "duration": 20,
    "start_time": "2023-04-24T17:35:23.566Z"
   },
   {
    "duration": 8803,
    "start_time": "2023-04-24T17:35:23.589Z"
   },
   {
    "duration": 503,
    "start_time": "2023-04-24T17:35:32.394Z"
   },
   {
    "duration": 225,
    "start_time": "2023-04-24T17:35:32.899Z"
   },
   {
    "duration": 145,
    "start_time": "2023-04-24T17:35:33.126Z"
   },
   {
    "duration": 556,
    "start_time": "2023-04-24T17:36:18.340Z"
   },
   {
    "duration": 4344,
    "start_time": "2023-04-24T17:44:50.255Z"
   },
   {
    "duration": 497,
    "start_time": "2023-04-24T17:44:58.104Z"
   },
   {
    "duration": 3,
    "start_time": "2023-04-24T17:45:12.377Z"
   },
   {
    "duration": 50,
    "start_time": "2023-04-24T17:45:17.285Z"
   },
   {
    "duration": 528,
    "start_time": "2023-04-24T17:45:20.471Z"
   },
   {
    "duration": 22,
    "start_time": "2023-04-24T17:57:18.212Z"
   },
   {
    "duration": 1348,
    "start_time": "2023-04-24T19:10:25.067Z"
   },
   {
    "duration": 908,
    "start_time": "2023-04-24T19:10:26.418Z"
   },
   {
    "duration": 21,
    "start_time": "2023-04-24T19:10:27.327Z"
   },
   {
    "duration": 31,
    "start_time": "2023-04-24T19:10:27.351Z"
   },
   {
    "duration": 168,
    "start_time": "2023-04-24T19:10:27.384Z"
   },
   {
    "duration": 95,
    "start_time": "2023-04-24T19:10:27.554Z"
   },
   {
    "duration": 39,
    "start_time": "2023-04-24T19:10:27.650Z"
   },
   {
    "duration": 325,
    "start_time": "2023-04-24T19:10:27.691Z"
   },
   {
    "duration": 157,
    "start_time": "2023-04-24T19:10:28.017Z"
   },
   {
    "duration": 54,
    "start_time": "2023-04-24T19:10:28.177Z"
   },
   {
    "duration": 54,
    "start_time": "2023-04-24T19:10:28.233Z"
   },
   {
    "duration": 28,
    "start_time": "2023-04-24T19:10:28.289Z"
   },
   {
    "duration": 10,
    "start_time": "2023-04-24T19:10:28.319Z"
   },
   {
    "duration": 35,
    "start_time": "2023-04-24T19:10:28.331Z"
   },
   {
    "duration": 50,
    "start_time": "2023-04-24T19:10:28.367Z"
   },
   {
    "duration": 17,
    "start_time": "2023-04-24T19:10:28.419Z"
   },
   {
    "duration": 38783,
    "start_time": "2023-04-24T19:10:28.438Z"
   },
   {
    "duration": 21,
    "start_time": "2023-04-24T19:11:07.223Z"
   },
   {
    "duration": 5,
    "start_time": "2023-04-24T19:11:07.246Z"
   },
   {
    "duration": 187,
    "start_time": "2023-04-24T19:11:07.253Z"
   },
   {
    "duration": 13,
    "start_time": "2023-04-24T19:11:07.442Z"
   },
   {
    "duration": 93,
    "start_time": "2023-04-24T19:11:07.456Z"
   },
   {
    "duration": 106,
    "start_time": "2023-04-24T19:11:07.550Z"
   },
   {
    "duration": 5,
    "start_time": "2023-04-24T19:11:07.658Z"
   },
   {
    "duration": 722,
    "start_time": "2023-04-24T19:11:07.664Z"
   },
   {
    "duration": 100,
    "start_time": "2023-04-24T19:11:08.388Z"
   },
   {
    "duration": 1227,
    "start_time": "2023-04-24T19:11:08.490Z"
   },
   {
    "duration": 87,
    "start_time": "2023-04-24T19:11:09.720Z"
   },
   {
    "duration": 4,
    "start_time": "2023-04-24T19:11:09.809Z"
   },
   {
    "duration": 8474,
    "start_time": "2023-04-24T19:11:09.815Z"
   },
   {
    "duration": 511,
    "start_time": "2023-04-24T19:11:18.290Z"
   },
   {
    "duration": 497,
    "start_time": "2023-04-24T19:11:18.804Z"
   },
   {
    "duration": 1176,
    "start_time": "2023-04-25T13:33:31.742Z"
   },
   {
    "duration": 865,
    "start_time": "2023-04-25T13:33:32.920Z"
   },
   {
    "duration": 18,
    "start_time": "2023-04-25T13:33:33.787Z"
   },
   {
    "duration": 4,
    "start_time": "2023-04-25T13:33:33.806Z"
   },
   {
    "duration": 103,
    "start_time": "2023-04-25T13:33:33.812Z"
   },
   {
    "duration": 81,
    "start_time": "2023-04-25T13:33:33.916Z"
   },
   {
    "duration": 22,
    "start_time": "2023-04-25T13:33:33.998Z"
   },
   {
    "duration": 237,
    "start_time": "2023-04-25T13:33:34.021Z"
   },
   {
    "duration": 123,
    "start_time": "2023-04-25T13:33:34.259Z"
   },
   {
    "duration": 36,
    "start_time": "2023-04-25T13:33:34.384Z"
   },
   {
    "duration": 31,
    "start_time": "2023-04-25T13:33:34.422Z"
   },
   {
    "duration": 37,
    "start_time": "2023-04-25T13:33:34.454Z"
   },
   {
    "duration": 10,
    "start_time": "2023-04-25T13:33:34.492Z"
   },
   {
    "duration": 23,
    "start_time": "2023-04-25T13:33:34.506Z"
   },
   {
    "duration": 42,
    "start_time": "2023-04-25T13:33:34.531Z"
   },
   {
    "duration": 14,
    "start_time": "2023-04-25T13:33:34.574Z"
   },
   {
    "duration": 29812,
    "start_time": "2023-04-25T13:33:34.590Z"
   },
   {
    "duration": 16,
    "start_time": "2023-04-25T13:34:04.403Z"
   },
   {
    "duration": 5,
    "start_time": "2023-04-25T13:34:04.420Z"
   },
   {
    "duration": 154,
    "start_time": "2023-04-25T13:34:04.426Z"
   },
   {
    "duration": 10,
    "start_time": "2023-04-25T13:34:04.582Z"
   },
   {
    "duration": 65,
    "start_time": "2023-04-25T13:34:04.594Z"
   },
   {
    "duration": 73,
    "start_time": "2023-04-25T13:34:04.660Z"
   },
   {
    "duration": 3,
    "start_time": "2023-04-25T13:34:04.735Z"
   },
   {
    "duration": 438,
    "start_time": "2023-04-25T13:34:04.739Z"
   },
   {
    "duration": 129,
    "start_time": "2023-04-25T13:34:05.179Z"
   },
   {
    "duration": 66,
    "start_time": "2023-04-25T13:34:05.310Z"
   },
   {
    "duration": 1167,
    "start_time": "2023-04-25T13:34:05.377Z"
   },
   {
    "duration": 67,
    "start_time": "2023-04-25T13:34:06.546Z"
   },
   {
    "duration": 3,
    "start_time": "2023-04-25T13:34:06.615Z"
   },
   {
    "duration": 7456,
    "start_time": "2023-04-25T13:34:06.619Z"
   },
   {
    "duration": 507,
    "start_time": "2023-04-25T13:34:14.077Z"
   },
   {
    "duration": 587,
    "start_time": "2023-04-25T13:34:14.586Z"
   }
  ],
  "kernelspec": {
   "display_name": "Python 3",
   "language": "python",
   "name": "python3"
  },
  "language_info": {
   "codemirror_mode": {
    "name": "ipython",
    "version": 3
   },
   "file_extension": ".py",
   "mimetype": "text/x-python",
   "name": "python",
   "nbconvert_exporter": "python",
   "pygments_lexer": "ipython3",
   "version": "3.8.8"
  },
  "toc": {
   "base_numbering": 1,
   "nav_menu": {},
   "number_sections": true,
   "sideBar": true,
   "skip_h1_title": true,
   "title_cell": "Table of Contents",
   "title_sidebar": "Contents",
   "toc_cell": false,
   "toc_position": {},
   "toc_section_display": true,
   "toc_window_display": true
  }
 },
 "nbformat": 4,
 "nbformat_minor": 2
}
